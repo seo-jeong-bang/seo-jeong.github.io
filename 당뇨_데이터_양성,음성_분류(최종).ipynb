{
  "nbformat": 4,
  "nbformat_minor": 0,
  "metadata": {
    "colab": {
      "provenance": [],
      "toc_visible": true,
      "authorship_tag": "ABX9TyOOQprt/2AshqV+XggFzvow",
      "include_colab_link": true
    },
    "kernelspec": {
      "name": "python3",
      "display_name": "Python 3"
    },
    "language_info": {
      "name": "python"
    }
  },
  "cells": [
    {
      "cell_type": "markdown",
      "metadata": {
        "id": "view-in-github",
        "colab_type": "text"
      },
      "source": [
        "<a href=\"https://colab.research.google.com/github/seo-jeong-bang/seo-jeong.github.io/blob/main/%EB%8B%B9%EB%87%A8_%EB%8D%B0%EC%9D%B4%ED%84%B0_%EC%96%91%EC%84%B1%2C%EC%9D%8C%EC%84%B1_%EB%B6%84%EB%A5%98(%EC%B5%9C%EC%A2%85).ipynb\" target=\"_parent\"><img src=\"https://colab.research.google.com/assets/colab-badge.svg\" alt=\"Open In Colab\"/></a>"
      ]
    },
    {
      "cell_type": "code",
      "execution_count": null,
      "metadata": {
        "id": "lw8XLg9A6ZUk"
      },
      "outputs": [],
      "source": [
        "import pandas as pd\n",
        "import numpy as np\n",
        "import matplotlib.pyplot as plt\n",
        "import seaborn as sns"
      ]
    },
    {
      "cell_type": "markdown",
      "source": [
        "##1. 데이터 불러오기"
      ],
      "metadata": {
        "id": "jcz5hnOD6tyz"
      }
    },
    {
      "cell_type": "code",
      "source": [
        "df=pd.read_csv('/content/diabetes.csv')"
      ],
      "metadata": {
        "id": "6corzL3W6dAa"
      },
      "execution_count": null,
      "outputs": []
    },
    {
      "cell_type": "markdown",
      "source": [],
      "metadata": {
        "id": "cKtNTmbD86rB"
      }
    },
    {
      "cell_type": "markdown",
      "source": [
        "###1.1 head, info, desc 등"
      ],
      "metadata": {
        "id": "nq0vFvSH8Pl-"
      }
    },
    {
      "cell_type": "code",
      "source": [
        "df.head()"
      ],
      "metadata": {
        "colab": {
          "base_uri": "https://localhost:8080/",
          "height": 270
        },
        "id": "s5D_sGup6qhv",
        "outputId": "e5914aa1-f7a0-4f5d-c341-5106cef307a4"
      },
      "execution_count": null,
      "outputs": [
        {
          "output_type": "execute_result",
          "data": {
            "text/plain": [
              "   Pregnancies  Glucose  BloodPressure  SkinThickness  Insulin   BMI  \\\n",
              "0            6      148             72             35        0  33.6   \n",
              "1            1       85             66             29        0  26.6   \n",
              "2            8      183             64              0        0  23.3   \n",
              "3            1       89             66             23       94  28.1   \n",
              "4            0      137             40             35      168  43.1   \n",
              "\n",
              "   DiabetesPedigreeFunction  Age  Outcome  \n",
              "0                     0.627   50        1  \n",
              "1                     0.351   31        0  \n",
              "2                     0.672   32        1  \n",
              "3                     0.167   21        0  \n",
              "4                     2.288   33        1  "
            ],
            "text/html": [
              "\n",
              "  <div id=\"df-34f9545c-68e3-4d12-8aa2-356c9a1512d9\">\n",
              "    <div class=\"colab-df-container\">\n",
              "      <div>\n",
              "<style scoped>\n",
              "    .dataframe tbody tr th:only-of-type {\n",
              "        vertical-align: middle;\n",
              "    }\n",
              "\n",
              "    .dataframe tbody tr th {\n",
              "        vertical-align: top;\n",
              "    }\n",
              "\n",
              "    .dataframe thead th {\n",
              "        text-align: right;\n",
              "    }\n",
              "</style>\n",
              "<table border=\"1\" class=\"dataframe\">\n",
              "  <thead>\n",
              "    <tr style=\"text-align: right;\">\n",
              "      <th></th>\n",
              "      <th>Pregnancies</th>\n",
              "      <th>Glucose</th>\n",
              "      <th>BloodPressure</th>\n",
              "      <th>SkinThickness</th>\n",
              "      <th>Insulin</th>\n",
              "      <th>BMI</th>\n",
              "      <th>DiabetesPedigreeFunction</th>\n",
              "      <th>Age</th>\n",
              "      <th>Outcome</th>\n",
              "    </tr>\n",
              "  </thead>\n",
              "  <tbody>\n",
              "    <tr>\n",
              "      <th>0</th>\n",
              "      <td>6</td>\n",
              "      <td>148</td>\n",
              "      <td>72</td>\n",
              "      <td>35</td>\n",
              "      <td>0</td>\n",
              "      <td>33.6</td>\n",
              "      <td>0.627</td>\n",
              "      <td>50</td>\n",
              "      <td>1</td>\n",
              "    </tr>\n",
              "    <tr>\n",
              "      <th>1</th>\n",
              "      <td>1</td>\n",
              "      <td>85</td>\n",
              "      <td>66</td>\n",
              "      <td>29</td>\n",
              "      <td>0</td>\n",
              "      <td>26.6</td>\n",
              "      <td>0.351</td>\n",
              "      <td>31</td>\n",
              "      <td>0</td>\n",
              "    </tr>\n",
              "    <tr>\n",
              "      <th>2</th>\n",
              "      <td>8</td>\n",
              "      <td>183</td>\n",
              "      <td>64</td>\n",
              "      <td>0</td>\n",
              "      <td>0</td>\n",
              "      <td>23.3</td>\n",
              "      <td>0.672</td>\n",
              "      <td>32</td>\n",
              "      <td>1</td>\n",
              "    </tr>\n",
              "    <tr>\n",
              "      <th>3</th>\n",
              "      <td>1</td>\n",
              "      <td>89</td>\n",
              "      <td>66</td>\n",
              "      <td>23</td>\n",
              "      <td>94</td>\n",
              "      <td>28.1</td>\n",
              "      <td>0.167</td>\n",
              "      <td>21</td>\n",
              "      <td>0</td>\n",
              "    </tr>\n",
              "    <tr>\n",
              "      <th>4</th>\n",
              "      <td>0</td>\n",
              "      <td>137</td>\n",
              "      <td>40</td>\n",
              "      <td>35</td>\n",
              "      <td>168</td>\n",
              "      <td>43.1</td>\n",
              "      <td>2.288</td>\n",
              "      <td>33</td>\n",
              "      <td>1</td>\n",
              "    </tr>\n",
              "  </tbody>\n",
              "</table>\n",
              "</div>\n",
              "      <button class=\"colab-df-convert\" onclick=\"convertToInteractive('df-34f9545c-68e3-4d12-8aa2-356c9a1512d9')\"\n",
              "              title=\"Convert this dataframe to an interactive table.\"\n",
              "              style=\"display:none;\">\n",
              "        \n",
              "  <svg xmlns=\"http://www.w3.org/2000/svg\" height=\"24px\"viewBox=\"0 0 24 24\"\n",
              "       width=\"24px\">\n",
              "    <path d=\"M0 0h24v24H0V0z\" fill=\"none\"/>\n",
              "    <path d=\"M18.56 5.44l.94 2.06.94-2.06 2.06-.94-2.06-.94-.94-2.06-.94 2.06-2.06.94zm-11 1L8.5 8.5l.94-2.06 2.06-.94-2.06-.94L8.5 2.5l-.94 2.06-2.06.94zm10 10l.94 2.06.94-2.06 2.06-.94-2.06-.94-.94-2.06-.94 2.06-2.06.94z\"/><path d=\"M17.41 7.96l-1.37-1.37c-.4-.4-.92-.59-1.43-.59-.52 0-1.04.2-1.43.59L10.3 9.45l-7.72 7.72c-.78.78-.78 2.05 0 2.83L4 21.41c.39.39.9.59 1.41.59.51 0 1.02-.2 1.41-.59l7.78-7.78 2.81-2.81c.8-.78.8-2.07 0-2.86zM5.41 20L4 18.59l7.72-7.72 1.47 1.35L5.41 20z\"/>\n",
              "  </svg>\n",
              "      </button>\n",
              "      \n",
              "  <style>\n",
              "    .colab-df-container {\n",
              "      display:flex;\n",
              "      flex-wrap:wrap;\n",
              "      gap: 12px;\n",
              "    }\n",
              "\n",
              "    .colab-df-convert {\n",
              "      background-color: #E8F0FE;\n",
              "      border: none;\n",
              "      border-radius: 50%;\n",
              "      cursor: pointer;\n",
              "      display: none;\n",
              "      fill: #1967D2;\n",
              "      height: 32px;\n",
              "      padding: 0 0 0 0;\n",
              "      width: 32px;\n",
              "    }\n",
              "\n",
              "    .colab-df-convert:hover {\n",
              "      background-color: #E2EBFA;\n",
              "      box-shadow: 0px 1px 2px rgba(60, 64, 67, 0.3), 0px 1px 3px 1px rgba(60, 64, 67, 0.15);\n",
              "      fill: #174EA6;\n",
              "    }\n",
              "\n",
              "    [theme=dark] .colab-df-convert {\n",
              "      background-color: #3B4455;\n",
              "      fill: #D2E3FC;\n",
              "    }\n",
              "\n",
              "    [theme=dark] .colab-df-convert:hover {\n",
              "      background-color: #434B5C;\n",
              "      box-shadow: 0px 1px 3px 1px rgba(0, 0, 0, 0.15);\n",
              "      filter: drop-shadow(0px 1px 2px rgba(0, 0, 0, 0.3));\n",
              "      fill: #FFFFFF;\n",
              "    }\n",
              "  </style>\n",
              "\n",
              "      <script>\n",
              "        const buttonEl =\n",
              "          document.querySelector('#df-34f9545c-68e3-4d12-8aa2-356c9a1512d9 button.colab-df-convert');\n",
              "        buttonEl.style.display =\n",
              "          google.colab.kernel.accessAllowed ? 'block' : 'none';\n",
              "\n",
              "        async function convertToInteractive(key) {\n",
              "          const element = document.querySelector('#df-34f9545c-68e3-4d12-8aa2-356c9a1512d9');\n",
              "          const dataTable =\n",
              "            await google.colab.kernel.invokeFunction('convertToInteractive',\n",
              "                                                     [key], {});\n",
              "          if (!dataTable) return;\n",
              "\n",
              "          const docLinkHtml = 'Like what you see? Visit the ' +\n",
              "            '<a target=\"_blank\" href=https://colab.research.google.com/notebooks/data_table.ipynb>data table notebook</a>'\n",
              "            + ' to learn more about interactive tables.';\n",
              "          element.innerHTML = '';\n",
              "          dataTable['output_type'] = 'display_data';\n",
              "          await google.colab.output.renderOutput(dataTable, element);\n",
              "          const docLink = document.createElement('div');\n",
              "          docLink.innerHTML = docLinkHtml;\n",
              "          element.appendChild(docLink);\n",
              "        }\n",
              "      </script>\n",
              "    </div>\n",
              "  </div>\n",
              "  "
            ]
          },
          "metadata": {},
          "execution_count": 4
        }
      ]
    },
    {
      "cell_type": "code",
      "source": [
        "df.info()"
      ],
      "metadata": {
        "colab": {
          "base_uri": "https://localhost:8080/"
        },
        "id": "8RcDcTRG8eFl",
        "outputId": "c34cc607-4a1a-4f20-ece5-e6859ba898b8"
      },
      "execution_count": null,
      "outputs": [
        {
          "output_type": "stream",
          "name": "stdout",
          "text": [
            "<class 'pandas.core.frame.DataFrame'>\n",
            "RangeIndex: 768 entries, 0 to 767\n",
            "Data columns (total 9 columns):\n",
            " #   Column                    Non-Null Count  Dtype  \n",
            "---  ------                    --------------  -----  \n",
            " 0   Pregnancies               768 non-null    int64  \n",
            " 1   Glucose                   768 non-null    int64  \n",
            " 2   BloodPressure             768 non-null    int64  \n",
            " 3   SkinThickness             768 non-null    int64  \n",
            " 4   Insulin                   768 non-null    int64  \n",
            " 5   BMI                       768 non-null    float64\n",
            " 6   DiabetesPedigreeFunction  768 non-null    float64\n",
            " 7   Age                       768 non-null    int64  \n",
            " 8   Outcome                   768 non-null    int64  \n",
            "dtypes: float64(2), int64(7)\n",
            "memory usage: 54.1 KB\n"
          ]
        }
      ]
    },
    {
      "cell_type": "markdown",
      "source": [
        "Pregnancies: 임신 횟수\n",
        "\n",
        "glucose: 경구 포도당 내성 검사에서 2시간 동안의 혈장 포도당 농도\n",
        "\n",
        "blood pressure: 이완기 혈압 (mm Hg)\n",
        "\n",
        "skin thickness (mm): 삼두근 피부 주름 두께\n",
        "\n",
        "insulin: 2시간 혈청 인슐린 (mu U/ml)\n",
        "\n",
        "BMI: Body mass index(체질량 지수) (weight in kg/(height in m)^2)\n",
        "\n",
        "Diabetes pedigree function: 당뇨병 가계도 기능\n",
        "\n",
        "Age (years):나이\n",
        "\n",
        "Class variable (0 or 1): 양성(1), 음성(0)"
      ],
      "metadata": {
        "id": "qyHPjlpR8h35"
      }
    },
    {
      "cell_type": "code",
      "source": [
        "df.describe()"
      ],
      "metadata": {
        "colab": {
          "base_uri": "https://localhost:8080/",
          "height": 364
        },
        "id": "yGZKc9mF8eCk",
        "outputId": "6aeadfb3-7356-45ae-f822-8fb5b2bf3fc4"
      },
      "execution_count": null,
      "outputs": [
        {
          "output_type": "execute_result",
          "data": {
            "text/plain": [
              "       Pregnancies     Glucose  BloodPressure  SkinThickness     Insulin  \\\n",
              "count   768.000000  768.000000     768.000000     768.000000  768.000000   \n",
              "mean      3.845052  120.894531      69.105469      20.536458   79.799479   \n",
              "std       3.369578   31.972618      19.355807      15.952218  115.244002   \n",
              "min       0.000000    0.000000       0.000000       0.000000    0.000000   \n",
              "25%       1.000000   99.000000      62.000000       0.000000    0.000000   \n",
              "50%       3.000000  117.000000      72.000000      23.000000   30.500000   \n",
              "75%       6.000000  140.250000      80.000000      32.000000  127.250000   \n",
              "max      17.000000  199.000000     122.000000      99.000000  846.000000   \n",
              "\n",
              "              BMI  DiabetesPedigreeFunction         Age     Outcome  \n",
              "count  768.000000                768.000000  768.000000  768.000000  \n",
              "mean    31.992578                  0.471876   33.240885    0.348958  \n",
              "std      7.884160                  0.331329   11.760232    0.476951  \n",
              "min      0.000000                  0.078000   21.000000    0.000000  \n",
              "25%     27.300000                  0.243750   24.000000    0.000000  \n",
              "50%     32.000000                  0.372500   29.000000    0.000000  \n",
              "75%     36.600000                  0.626250   41.000000    1.000000  \n",
              "max     67.100000                  2.420000   81.000000    1.000000  "
            ],
            "text/html": [
              "\n",
              "  <div id=\"df-7373dbd9-447a-4d5a-9d49-b1d80a67787d\">\n",
              "    <div class=\"colab-df-container\">\n",
              "      <div>\n",
              "<style scoped>\n",
              "    .dataframe tbody tr th:only-of-type {\n",
              "        vertical-align: middle;\n",
              "    }\n",
              "\n",
              "    .dataframe tbody tr th {\n",
              "        vertical-align: top;\n",
              "    }\n",
              "\n",
              "    .dataframe thead th {\n",
              "        text-align: right;\n",
              "    }\n",
              "</style>\n",
              "<table border=\"1\" class=\"dataframe\">\n",
              "  <thead>\n",
              "    <tr style=\"text-align: right;\">\n",
              "      <th></th>\n",
              "      <th>Pregnancies</th>\n",
              "      <th>Glucose</th>\n",
              "      <th>BloodPressure</th>\n",
              "      <th>SkinThickness</th>\n",
              "      <th>Insulin</th>\n",
              "      <th>BMI</th>\n",
              "      <th>DiabetesPedigreeFunction</th>\n",
              "      <th>Age</th>\n",
              "      <th>Outcome</th>\n",
              "    </tr>\n",
              "  </thead>\n",
              "  <tbody>\n",
              "    <tr>\n",
              "      <th>count</th>\n",
              "      <td>768.000000</td>\n",
              "      <td>768.000000</td>\n",
              "      <td>768.000000</td>\n",
              "      <td>768.000000</td>\n",
              "      <td>768.000000</td>\n",
              "      <td>768.000000</td>\n",
              "      <td>768.000000</td>\n",
              "      <td>768.000000</td>\n",
              "      <td>768.000000</td>\n",
              "    </tr>\n",
              "    <tr>\n",
              "      <th>mean</th>\n",
              "      <td>3.845052</td>\n",
              "      <td>120.894531</td>\n",
              "      <td>69.105469</td>\n",
              "      <td>20.536458</td>\n",
              "      <td>79.799479</td>\n",
              "      <td>31.992578</td>\n",
              "      <td>0.471876</td>\n",
              "      <td>33.240885</td>\n",
              "      <td>0.348958</td>\n",
              "    </tr>\n",
              "    <tr>\n",
              "      <th>std</th>\n",
              "      <td>3.369578</td>\n",
              "      <td>31.972618</td>\n",
              "      <td>19.355807</td>\n",
              "      <td>15.952218</td>\n",
              "      <td>115.244002</td>\n",
              "      <td>7.884160</td>\n",
              "      <td>0.331329</td>\n",
              "      <td>11.760232</td>\n",
              "      <td>0.476951</td>\n",
              "    </tr>\n",
              "    <tr>\n",
              "      <th>min</th>\n",
              "      <td>0.000000</td>\n",
              "      <td>0.000000</td>\n",
              "      <td>0.000000</td>\n",
              "      <td>0.000000</td>\n",
              "      <td>0.000000</td>\n",
              "      <td>0.000000</td>\n",
              "      <td>0.078000</td>\n",
              "      <td>21.000000</td>\n",
              "      <td>0.000000</td>\n",
              "    </tr>\n",
              "    <tr>\n",
              "      <th>25%</th>\n",
              "      <td>1.000000</td>\n",
              "      <td>99.000000</td>\n",
              "      <td>62.000000</td>\n",
              "      <td>0.000000</td>\n",
              "      <td>0.000000</td>\n",
              "      <td>27.300000</td>\n",
              "      <td>0.243750</td>\n",
              "      <td>24.000000</td>\n",
              "      <td>0.000000</td>\n",
              "    </tr>\n",
              "    <tr>\n",
              "      <th>50%</th>\n",
              "      <td>3.000000</td>\n",
              "      <td>117.000000</td>\n",
              "      <td>72.000000</td>\n",
              "      <td>23.000000</td>\n",
              "      <td>30.500000</td>\n",
              "      <td>32.000000</td>\n",
              "      <td>0.372500</td>\n",
              "      <td>29.000000</td>\n",
              "      <td>0.000000</td>\n",
              "    </tr>\n",
              "    <tr>\n",
              "      <th>75%</th>\n",
              "      <td>6.000000</td>\n",
              "      <td>140.250000</td>\n",
              "      <td>80.000000</td>\n",
              "      <td>32.000000</td>\n",
              "      <td>127.250000</td>\n",
              "      <td>36.600000</td>\n",
              "      <td>0.626250</td>\n",
              "      <td>41.000000</td>\n",
              "      <td>1.000000</td>\n",
              "    </tr>\n",
              "    <tr>\n",
              "      <th>max</th>\n",
              "      <td>17.000000</td>\n",
              "      <td>199.000000</td>\n",
              "      <td>122.000000</td>\n",
              "      <td>99.000000</td>\n",
              "      <td>846.000000</td>\n",
              "      <td>67.100000</td>\n",
              "      <td>2.420000</td>\n",
              "      <td>81.000000</td>\n",
              "      <td>1.000000</td>\n",
              "    </tr>\n",
              "  </tbody>\n",
              "</table>\n",
              "</div>\n",
              "      <button class=\"colab-df-convert\" onclick=\"convertToInteractive('df-7373dbd9-447a-4d5a-9d49-b1d80a67787d')\"\n",
              "              title=\"Convert this dataframe to an interactive table.\"\n",
              "              style=\"display:none;\">\n",
              "        \n",
              "  <svg xmlns=\"http://www.w3.org/2000/svg\" height=\"24px\"viewBox=\"0 0 24 24\"\n",
              "       width=\"24px\">\n",
              "    <path d=\"M0 0h24v24H0V0z\" fill=\"none\"/>\n",
              "    <path d=\"M18.56 5.44l.94 2.06.94-2.06 2.06-.94-2.06-.94-.94-2.06-.94 2.06-2.06.94zm-11 1L8.5 8.5l.94-2.06 2.06-.94-2.06-.94L8.5 2.5l-.94 2.06-2.06.94zm10 10l.94 2.06.94-2.06 2.06-.94-2.06-.94-.94-2.06-.94 2.06-2.06.94z\"/><path d=\"M17.41 7.96l-1.37-1.37c-.4-.4-.92-.59-1.43-.59-.52 0-1.04.2-1.43.59L10.3 9.45l-7.72 7.72c-.78.78-.78 2.05 0 2.83L4 21.41c.39.39.9.59 1.41.59.51 0 1.02-.2 1.41-.59l7.78-7.78 2.81-2.81c.8-.78.8-2.07 0-2.86zM5.41 20L4 18.59l7.72-7.72 1.47 1.35L5.41 20z\"/>\n",
              "  </svg>\n",
              "      </button>\n",
              "      \n",
              "  <style>\n",
              "    .colab-df-container {\n",
              "      display:flex;\n",
              "      flex-wrap:wrap;\n",
              "      gap: 12px;\n",
              "    }\n",
              "\n",
              "    .colab-df-convert {\n",
              "      background-color: #E8F0FE;\n",
              "      border: none;\n",
              "      border-radius: 50%;\n",
              "      cursor: pointer;\n",
              "      display: none;\n",
              "      fill: #1967D2;\n",
              "      height: 32px;\n",
              "      padding: 0 0 0 0;\n",
              "      width: 32px;\n",
              "    }\n",
              "\n",
              "    .colab-df-convert:hover {\n",
              "      background-color: #E2EBFA;\n",
              "      box-shadow: 0px 1px 2px rgba(60, 64, 67, 0.3), 0px 1px 3px 1px rgba(60, 64, 67, 0.15);\n",
              "      fill: #174EA6;\n",
              "    }\n",
              "\n",
              "    [theme=dark] .colab-df-convert {\n",
              "      background-color: #3B4455;\n",
              "      fill: #D2E3FC;\n",
              "    }\n",
              "\n",
              "    [theme=dark] .colab-df-convert:hover {\n",
              "      background-color: #434B5C;\n",
              "      box-shadow: 0px 1px 3px 1px rgba(0, 0, 0, 0.15);\n",
              "      filter: drop-shadow(0px 1px 2px rgba(0, 0, 0, 0.3));\n",
              "      fill: #FFFFFF;\n",
              "    }\n",
              "  </style>\n",
              "\n",
              "      <script>\n",
              "        const buttonEl =\n",
              "          document.querySelector('#df-7373dbd9-447a-4d5a-9d49-b1d80a67787d button.colab-df-convert');\n",
              "        buttonEl.style.display =\n",
              "          google.colab.kernel.accessAllowed ? 'block' : 'none';\n",
              "\n",
              "        async function convertToInteractive(key) {\n",
              "          const element = document.querySelector('#df-7373dbd9-447a-4d5a-9d49-b1d80a67787d');\n",
              "          const dataTable =\n",
              "            await google.colab.kernel.invokeFunction('convertToInteractive',\n",
              "                                                     [key], {});\n",
              "          if (!dataTable) return;\n",
              "\n",
              "          const docLinkHtml = 'Like what you see? Visit the ' +\n",
              "            '<a target=\"_blank\" href=https://colab.research.google.com/notebooks/data_table.ipynb>data table notebook</a>'\n",
              "            + ' to learn more about interactive tables.';\n",
              "          element.innerHTML = '';\n",
              "          dataTable['output_type'] = 'display_data';\n",
              "          await google.colab.output.renderOutput(dataTable, element);\n",
              "          const docLink = document.createElement('div');\n",
              "          docLink.innerHTML = docLinkHtml;\n",
              "          element.appendChild(docLink);\n",
              "        }\n",
              "      </script>\n",
              "    </div>\n",
              "  </div>\n",
              "  "
            ]
          },
          "metadata": {},
          "execution_count": 6
        }
      ]
    },
    {
      "cell_type": "markdown",
      "source": [
        "###1.2 인덱스 별 최대값 최소값 그리고 이상치 값 확인 ( 막대그래프 )"
      ],
      "metadata": {
        "id": "JVURa1zR8njN"
      }
    },
    {
      "cell_type": "markdown",
      "source": [
        "min을 살펴보면 0이 나올 수 없는 항목에 0이 존재함을 알 수 있다. 이는 결측치가 0으로 대체되어 있기 때문이다.min이 0인 항목을 보면 Pregnancies,Glucose 와 같이 0이 될 수 있는 항목들도 있지만, BloodPressure,SkinThickness,Insulin,BMI 와 같이 0이 될 수 없는 항목이 존재하기 때문에 결측치를 대체해주어야한다.\n",
        "\n",
        "*인슐린의 경우 인슐린을 체내에서 생성하지 않는 경우도 있기 때문에 0인 데이터가 존재할 수 있다. 인슐린이 생성되지 않는 경우 1형 당뇨에 속하는데, 1형 당뇨의 경우 소아당뇨 또는 BMI지수가 정상범위에 속하지 않는 (저체중) 경우에만 해당하므로 age의 min이 21, BMI의 25%가 비만에 속하는 27.3 인 우리의 데이터의 경우 1형당뇨에 속하지 않는다."
      ],
      "metadata": {
        "id": "oeRLwFZl8p3Z"
      }
    },
    {
      "cell_type": "code",
      "source": [
        "df.hist(bins=50,figsize=(20,15))\n",
        "plt.show()"
      ],
      "metadata": {
        "colab": {
          "base_uri": "https://localhost:8080/",
          "height": 625
        },
        "id": "4w5sPfV78d_e",
        "outputId": "4568efca-a891-486b-c95a-97e35782b120"
      },
      "execution_count": null,
      "outputs": [
        {
          "output_type": "display_data",
          "data": {
            "text/plain": [
              "<Figure size 1440x1080 with 9 Axes>"
            ],
            "image/png": "[encoded data removed]"
          },
          "metadata": {
            "needs_background": "light"
          }
        }
      ]
    },
    {
      "cell_type": "markdown",
      "source": [
        "히스토그램을 살펴보니, 값이 고루 분포되어 있지 않고 한 곳에 치우친 것을 확인할 수 있다. 따라서 이상치를 중앙값으로 대체하였다."
      ],
      "metadata": {
        "id": "_3YtVx5e9tCQ"
      }
    },
    {
      "cell_type": "markdown",
      "source": [
        "##2. 전처리"
      ],
      "metadata": {
        "id": "lMsk5l-5804w"
      }
    },
    {
      "cell_type": "markdown",
      "source": [
        "### 2.1 이상치 대체 및 이상치 처리 방법 주석으로 작성"
      ],
      "metadata": {
        "id": "xpifqFc29XY3"
      }
    },
    {
      "cell_type": "markdown",
      "source": [
        "먼저, 0이 나올 수 없는 항목인 'Glucose', 'BloodPressure', 'SkinThickness', 'Insulin', 'BMI' 의 0값을 결측치로 판단하여 NaN으로 대체하였다."
      ],
      "metadata": {
        "id": "mX8Yye2P96rV"
      }
    },
    {
      "cell_type": "code",
      "source": [
        "df.replace({'Glucose':{0:np.NaN},\n",
        "            'BloodPressure':{0:np.NaN},\n",
        "            'SkinThickness':{0:np.NaN},\n",
        "            'Insulin':{0:np.NaN},\n",
        "            'BMI':{0:np.NaN}}, inplace = True)"
      ],
      "metadata": {
        "id": "2HXQ9cY28t87"
      },
      "execution_count": null,
      "outputs": []
    },
    {
      "cell_type": "code",
      "source": [
        "df"
      ],
      "metadata": {
        "colab": {
          "base_uri": "https://localhost:8080/",
          "height": 487
        },
        "id": "a_ZXop9A9b-T",
        "outputId": "73216537-76e4-47e0-e9fa-6dc45b2e7a11"
      },
      "execution_count": null,
      "outputs": [
        {
          "output_type": "execute_result",
          "data": {
            "text/plain": [
              "     Pregnancies  Glucose  BloodPressure  SkinThickness  Insulin   BMI  \\\n",
              "0              6    148.0           72.0           35.0      NaN  33.6   \n",
              "1              1     85.0           66.0           29.0      NaN  26.6   \n",
              "2              8    183.0           64.0            NaN      NaN  23.3   \n",
              "3              1     89.0           66.0           23.0     94.0  28.1   \n",
              "4              0    137.0           40.0           35.0    168.0  43.1   \n",
              "..           ...      ...            ...            ...      ...   ...   \n",
              "763           10    101.0           76.0           48.0    180.0  32.9   \n",
              "764            2    122.0           70.0           27.0      NaN  36.8   \n",
              "765            5    121.0           72.0           23.0    112.0  26.2   \n",
              "766            1    126.0           60.0            NaN      NaN  30.1   \n",
              "767            1     93.0           70.0           31.0      NaN  30.4   \n",
              "\n",
              "     DiabetesPedigreeFunction  Age  Outcome  \n",
              "0                       0.627   50        1  \n",
              "1                       0.351   31        0  \n",
              "2                       0.672   32        1  \n",
              "3                       0.167   21        0  \n",
              "4                       2.288   33        1  \n",
              "..                        ...  ...      ...  \n",
              "763                     0.171   63        0  \n",
              "764                     0.340   27        0  \n",
              "765                     0.245   30        0  \n",
              "766                     0.349   47        1  \n",
              "767                     0.315   23        0  \n",
              "\n",
              "[768 rows x 9 columns]"
            ],
            "text/html": [
              "\n",
              "  <div id=\"df-0b1837a7-db11-441c-991d-d209d81c7e6f\">\n",
              "    <div class=\"colab-df-container\">\n",
              "      <div>\n",
              "<style scoped>\n",
              "    .dataframe tbody tr th:only-of-type {\n",
              "        vertical-align: middle;\n",
              "    }\n",
              "\n",
              "    .dataframe tbody tr th {\n",
              "        vertical-align: top;\n",
              "    }\n",
              "\n",
              "    .dataframe thead th {\n",
              "        text-align: right;\n",
              "    }\n",
              "</style>\n",
              "<table border=\"1\" class=\"dataframe\">\n",
              "  <thead>\n",
              "    <tr style=\"text-align: right;\">\n",
              "      <th></th>\n",
              "      <th>Pregnancies</th>\n",
              "      <th>Glucose</th>\n",
              "      <th>BloodPressure</th>\n",
              "      <th>SkinThickness</th>\n",
              "      <th>Insulin</th>\n",
              "      <th>BMI</th>\n",
              "      <th>DiabetesPedigreeFunction</th>\n",
              "      <th>Age</th>\n",
              "      <th>Outcome</th>\n",
              "    </tr>\n",
              "  </thead>\n",
              "  <tbody>\n",
              "    <tr>\n",
              "      <th>0</th>\n",
              "      <td>6</td>\n",
              "      <td>148.0</td>\n",
              "      <td>72.0</td>\n",
              "      <td>35.0</td>\n",
              "      <td>NaN</td>\n",
              "      <td>33.6</td>\n",
              "      <td>0.627</td>\n",
              "      <td>50</td>\n",
              "      <td>1</td>\n",
              "    </tr>\n",
              "    <tr>\n",
              "      <th>1</th>\n",
              "      <td>1</td>\n",
              "      <td>85.0</td>\n",
              "      <td>66.0</td>\n",
              "      <td>29.0</td>\n",
              "      <td>NaN</td>\n",
              "      <td>26.6</td>\n",
              "      <td>0.351</td>\n",
              "      <td>31</td>\n",
              "      <td>0</td>\n",
              "    </tr>\n",
              "    <tr>\n",
              "      <th>2</th>\n",
              "      <td>8</td>\n",
              "      <td>183.0</td>\n",
              "      <td>64.0</td>\n",
              "      <td>NaN</td>\n",
              "      <td>NaN</td>\n",
              "      <td>23.3</td>\n",
              "      <td>0.672</td>\n",
              "      <td>32</td>\n",
              "      <td>1</td>\n",
              "    </tr>\n",
              "    <tr>\n",
              "      <th>3</th>\n",
              "      <td>1</td>\n",
              "      <td>89.0</td>\n",
              "      <td>66.0</td>\n",
              "      <td>23.0</td>\n",
              "      <td>94.0</td>\n",
              "      <td>28.1</td>\n",
              "      <td>0.167</td>\n",
              "      <td>21</td>\n",
              "      <td>0</td>\n",
              "    </tr>\n",
              "    <tr>\n",
              "      <th>4</th>\n",
              "      <td>0</td>\n",
              "      <td>137.0</td>\n",
              "      <td>40.0</td>\n",
              "      <td>35.0</td>\n",
              "      <td>168.0</td>\n",
              "      <td>43.1</td>\n",
              "      <td>2.288</td>\n",
              "      <td>33</td>\n",
              "      <td>1</td>\n",
              "    </tr>\n",
              "    <tr>\n",
              "      <th>...</th>\n",
              "      <td>...</td>\n",
              "      <td>...</td>\n",
              "      <td>...</td>\n",
              "      <td>...</td>\n",
              "      <td>...</td>\n",
              "      <td>...</td>\n",
              "      <td>...</td>\n",
              "      <td>...</td>\n",
              "      <td>...</td>\n",
              "    </tr>\n",
              "    <tr>\n",
              "      <th>763</th>\n",
              "      <td>10</td>\n",
              "      <td>101.0</td>\n",
              "      <td>76.0</td>\n",
              "      <td>48.0</td>\n",
              "      <td>180.0</td>\n",
              "      <td>32.9</td>\n",
              "      <td>0.171</td>\n",
              "      <td>63</td>\n",
              "      <td>0</td>\n",
              "    </tr>\n",
              "    <tr>\n",
              "      <th>764</th>\n",
              "      <td>2</td>\n",
              "      <td>122.0</td>\n",
              "      <td>70.0</td>\n",
              "      <td>27.0</td>\n",
              "      <td>NaN</td>\n",
              "      <td>36.8</td>\n",
              "      <td>0.340</td>\n",
              "      <td>27</td>\n",
              "      <td>0</td>\n",
              "    </tr>\n",
              "    <tr>\n",
              "      <th>765</th>\n",
              "      <td>5</td>\n",
              "      <td>121.0</td>\n",
              "      <td>72.0</td>\n",
              "      <td>23.0</td>\n",
              "      <td>112.0</td>\n",
              "      <td>26.2</td>\n",
              "      <td>0.245</td>\n",
              "      <td>30</td>\n",
              "      <td>0</td>\n",
              "    </tr>\n",
              "    <tr>\n",
              "      <th>766</th>\n",
              "      <td>1</td>\n",
              "      <td>126.0</td>\n",
              "      <td>60.0</td>\n",
              "      <td>NaN</td>\n",
              "      <td>NaN</td>\n",
              "      <td>30.1</td>\n",
              "      <td>0.349</td>\n",
              "      <td>47</td>\n",
              "      <td>1</td>\n",
              "    </tr>\n",
              "    <tr>\n",
              "      <th>767</th>\n",
              "      <td>1</td>\n",
              "      <td>93.0</td>\n",
              "      <td>70.0</td>\n",
              "      <td>31.0</td>\n",
              "      <td>NaN</td>\n",
              "      <td>30.4</td>\n",
              "      <td>0.315</td>\n",
              "      <td>23</td>\n",
              "      <td>0</td>\n",
              "    </tr>\n",
              "  </tbody>\n",
              "</table>\n",
              "<p>768 rows × 9 columns</p>\n",
              "</div>\n",
              "      <button class=\"colab-df-convert\" onclick=\"convertToInteractive('df-0b1837a7-db11-441c-991d-d209d81c7e6f')\"\n",
              "              title=\"Convert this dataframe to an interactive table.\"\n",
              "              style=\"display:none;\">\n",
              "        \n",
              "  <svg xmlns=\"http://www.w3.org/2000/svg\" height=\"24px\"viewBox=\"0 0 24 24\"\n",
              "       width=\"24px\">\n",
              "    <path d=\"M0 0h24v24H0V0z\" fill=\"none\"/>\n",
              "    <path d=\"M18.56 5.44l.94 2.06.94-2.06 2.06-.94-2.06-.94-.94-2.06-.94 2.06-2.06.94zm-11 1L8.5 8.5l.94-2.06 2.06-.94-2.06-.94L8.5 2.5l-.94 2.06-2.06.94zm10 10l.94 2.06.94-2.06 2.06-.94-2.06-.94-.94-2.06-.94 2.06-2.06.94z\"/><path d=\"M17.41 7.96l-1.37-1.37c-.4-.4-.92-.59-1.43-.59-.52 0-1.04.2-1.43.59L10.3 9.45l-7.72 7.72c-.78.78-.78 2.05 0 2.83L4 21.41c.39.39.9.59 1.41.59.51 0 1.02-.2 1.41-.59l7.78-7.78 2.81-2.81c.8-.78.8-2.07 0-2.86zM5.41 20L4 18.59l7.72-7.72 1.47 1.35L5.41 20z\"/>\n",
              "  </svg>\n",
              "      </button>\n",
              "      \n",
              "  <style>\n",
              "    .colab-df-container {\n",
              "      display:flex;\n",
              "      flex-wrap:wrap;\n",
              "      gap: 12px;\n",
              "    }\n",
              "\n",
              "    .colab-df-convert {\n",
              "      background-color: #E8F0FE;\n",
              "      border: none;\n",
              "      border-radius: 50%;\n",
              "      cursor: pointer;\n",
              "      display: none;\n",
              "      fill: #1967D2;\n",
              "      height: 32px;\n",
              "      padding: 0 0 0 0;\n",
              "      width: 32px;\n",
              "    }\n",
              "\n",
              "    .colab-df-convert:hover {\n",
              "      background-color: #E2EBFA;\n",
              "      box-shadow: 0px 1px 2px rgba(60, 64, 67, 0.3), 0px 1px 3px 1px rgba(60, 64, 67, 0.15);\n",
              "      fill: #174EA6;\n",
              "    }\n",
              "\n",
              "    [theme=dark] .colab-df-convert {\n",
              "      background-color: #3B4455;\n",
              "      fill: #D2E3FC;\n",
              "    }\n",
              "\n",
              "    [theme=dark] .colab-df-convert:hover {\n",
              "      background-color: #434B5C;\n",
              "      box-shadow: 0px 1px 3px 1px rgba(0, 0, 0, 0.15);\n",
              "      filter: drop-shadow(0px 1px 2px rgba(0, 0, 0, 0.3));\n",
              "      fill: #FFFFFF;\n",
              "    }\n",
              "  </style>\n",
              "\n",
              "      <script>\n",
              "        const buttonEl =\n",
              "          document.querySelector('#df-0b1837a7-db11-441c-991d-d209d81c7e6f button.colab-df-convert');\n",
              "        buttonEl.style.display =\n",
              "          google.colab.kernel.accessAllowed ? 'block' : 'none';\n",
              "\n",
              "        async function convertToInteractive(key) {\n",
              "          const element = document.querySelector('#df-0b1837a7-db11-441c-991d-d209d81c7e6f');\n",
              "          const dataTable =\n",
              "            await google.colab.kernel.invokeFunction('convertToInteractive',\n",
              "                                                     [key], {});\n",
              "          if (!dataTable) return;\n",
              "\n",
              "          const docLinkHtml = 'Like what you see? Visit the ' +\n",
              "            '<a target=\"_blank\" href=https://colab.research.google.com/notebooks/data_table.ipynb>data table notebook</a>'\n",
              "            + ' to learn more about interactive tables.';\n",
              "          element.innerHTML = '';\n",
              "          dataTable['output_type'] = 'display_data';\n",
              "          await google.colab.output.renderOutput(dataTable, element);\n",
              "          const docLink = document.createElement('div');\n",
              "          docLink.innerHTML = docLinkHtml;\n",
              "          element.appendChild(docLink);\n",
              "        }\n",
              "      </script>\n",
              "    </div>\n",
              "  </div>\n",
              "  "
            ]
          },
          "metadata": {},
          "execution_count": 9
        }
      ]
    },
    {
      "cell_type": "code",
      "source": [
        "#0을 NaN값으로 대체 후 중앙값 확인\n",
        "print(df['Glucose'].median())\n",
        "print(df['BloodPressure'].median())\n",
        "print(df['SkinThickness'].median())\n",
        "print(df['Insulin'].median())\n",
        "print(df['BMI'].median())"
      ],
      "metadata": {
        "colab": {
          "base_uri": "https://localhost:8080/"
        },
        "id": "T0sBIp969en5",
        "outputId": "6de61bb7-5e6f-40f3-c646-9e852a880ceb"
      },
      "execution_count": null,
      "outputs": [
        {
          "output_type": "stream",
          "name": "stdout",
          "text": [
            "117.0\n",
            "72.0\n",
            "29.0\n",
            "125.0\n",
            "32.3\n"
          ]
        }
      ]
    },
    {
      "cell_type": "markdown",
      "source": [
        "###2.2 outcome 양성,음성으로 데이터프레임 분류"
      ],
      "metadata": {
        "id": "HMqYLeBP-Wdk"
      }
    },
    {
      "cell_type": "code",
      "source": [
        "df_1= df[df['Outcome']==1]\n",
        "df_1"
      ],
      "metadata": {
        "colab": {
          "base_uri": "https://localhost:8080/",
          "height": 487
        },
        "id": "o-W10J3A-PZH",
        "outputId": "413aff0d-a7b2-442a-ba51-c608f02f2182"
      },
      "execution_count": null,
      "outputs": [
        {
          "output_type": "execute_result",
          "data": {
            "text/plain": [
              "     Pregnancies  Glucose  BloodPressure  SkinThickness  Insulin   BMI  \\\n",
              "0              6    148.0           72.0           35.0      NaN  33.6   \n",
              "2              8    183.0           64.0            NaN      NaN  23.3   \n",
              "4              0    137.0           40.0           35.0    168.0  43.1   \n",
              "6              3     78.0           50.0           32.0     88.0  31.0   \n",
              "8              2    197.0           70.0           45.0    543.0  30.5   \n",
              "..           ...      ...            ...            ...      ...   ...   \n",
              "755            1    128.0           88.0           39.0    110.0  36.5   \n",
              "757            0    123.0           72.0            NaN      NaN  36.3   \n",
              "759            6    190.0           92.0            NaN      NaN  35.5   \n",
              "761            9    170.0           74.0           31.0      NaN  44.0   \n",
              "766            1    126.0           60.0            NaN      NaN  30.1   \n",
              "\n",
              "     DiabetesPedigreeFunction  Age  Outcome  \n",
              "0                       0.627   50        1  \n",
              "2                       0.672   32        1  \n",
              "4                       2.288   33        1  \n",
              "6                       0.248   26        1  \n",
              "8                       0.158   53        1  \n",
              "..                        ...  ...      ...  \n",
              "755                     1.057   37        1  \n",
              "757                     0.258   52        1  \n",
              "759                     0.278   66        1  \n",
              "761                     0.403   43        1  \n",
              "766                     0.349   47        1  \n",
              "\n",
              "[268 rows x 9 columns]"
            ],
            "text/html": [
              "\n",
              "  <div id=\"df-91fa3107-d5bb-488f-9ba7-cb58d3febc25\">\n",
              "    <div class=\"colab-df-container\">\n",
              "      <div>\n",
              "<style scoped>\n",
              "    .dataframe tbody tr th:only-of-type {\n",
              "        vertical-align: middle;\n",
              "    }\n",
              "\n",
              "    .dataframe tbody tr th {\n",
              "        vertical-align: top;\n",
              "    }\n",
              "\n",
              "    .dataframe thead th {\n",
              "        text-align: right;\n",
              "    }\n",
              "</style>\n",
              "<table border=\"1\" class=\"dataframe\">\n",
              "  <thead>\n",
              "    <tr style=\"text-align: right;\">\n",
              "      <th></th>\n",
              "      <th>Pregnancies</th>\n",
              "      <th>Glucose</th>\n",
              "      <th>BloodPressure</th>\n",
              "      <th>SkinThickness</th>\n",
              "      <th>Insulin</th>\n",
              "      <th>BMI</th>\n",
              "      <th>DiabetesPedigreeFunction</th>\n",
              "      <th>Age</th>\n",
              "      <th>Outcome</th>\n",
              "    </tr>\n",
              "  </thead>\n",
              "  <tbody>\n",
              "    <tr>\n",
              "      <th>0</th>\n",
              "      <td>6</td>\n",
              "      <td>148.0</td>\n",
              "      <td>72.0</td>\n",
              "      <td>35.0</td>\n",
              "      <td>NaN</td>\n",
              "      <td>33.6</td>\n",
              "      <td>0.627</td>\n",
              "      <td>50</td>\n",
              "      <td>1</td>\n",
              "    </tr>\n",
              "    <tr>\n",
              "      <th>2</th>\n",
              "      <td>8</td>\n",
              "      <td>183.0</td>\n",
              "      <td>64.0</td>\n",
              "      <td>NaN</td>\n",
              "      <td>NaN</td>\n",
              "      <td>23.3</td>\n",
              "      <td>0.672</td>\n",
              "      <td>32</td>\n",
              "      <td>1</td>\n",
              "    </tr>\n",
              "    <tr>\n",
              "      <th>4</th>\n",
              "      <td>0</td>\n",
              "      <td>137.0</td>\n",
              "      <td>40.0</td>\n",
              "      <td>35.0</td>\n",
              "      <td>168.0</td>\n",
              "      <td>43.1</td>\n",
              "      <td>2.288</td>\n",
              "      <td>33</td>\n",
              "      <td>1</td>\n",
              "    </tr>\n",
              "    <tr>\n",
              "      <th>6</th>\n",
              "      <td>3</td>\n",
              "      <td>78.0</td>\n",
              "      <td>50.0</td>\n",
              "      <td>32.0</td>\n",
              "      <td>88.0</td>\n",
              "      <td>31.0</td>\n",
              "      <td>0.248</td>\n",
              "      <td>26</td>\n",
              "      <td>1</td>\n",
              "    </tr>\n",
              "    <tr>\n",
              "      <th>8</th>\n",
              "      <td>2</td>\n",
              "      <td>197.0</td>\n",
              "      <td>70.0</td>\n",
              "      <td>45.0</td>\n",
              "      <td>543.0</td>\n",
              "      <td>30.5</td>\n",
              "      <td>0.158</td>\n",
              "      <td>53</td>\n",
              "      <td>1</td>\n",
              "    </tr>\n",
              "    <tr>\n",
              "      <th>...</th>\n",
              "      <td>...</td>\n",
              "      <td>...</td>\n",
              "      <td>...</td>\n",
              "      <td>...</td>\n",
              "      <td>...</td>\n",
              "      <td>...</td>\n",
              "      <td>...</td>\n",
              "      <td>...</td>\n",
              "      <td>...</td>\n",
              "    </tr>\n",
              "    <tr>\n",
              "      <th>755</th>\n",
              "      <td>1</td>\n",
              "      <td>128.0</td>\n",
              "      <td>88.0</td>\n",
              "      <td>39.0</td>\n",
              "      <td>110.0</td>\n",
              "      <td>36.5</td>\n",
              "      <td>1.057</td>\n",
              "      <td>37</td>\n",
              "      <td>1</td>\n",
              "    </tr>\n",
              "    <tr>\n",
              "      <th>757</th>\n",
              "      <td>0</td>\n",
              "      <td>123.0</td>\n",
              "      <td>72.0</td>\n",
              "      <td>NaN</td>\n",
              "      <td>NaN</td>\n",
              "      <td>36.3</td>\n",
              "      <td>0.258</td>\n",
              "      <td>52</td>\n",
              "      <td>1</td>\n",
              "    </tr>\n",
              "    <tr>\n",
              "      <th>759</th>\n",
              "      <td>6</td>\n",
              "      <td>190.0</td>\n",
              "      <td>92.0</td>\n",
              "      <td>NaN</td>\n",
              "      <td>NaN</td>\n",
              "      <td>35.5</td>\n",
              "      <td>0.278</td>\n",
              "      <td>66</td>\n",
              "      <td>1</td>\n",
              "    </tr>\n",
              "    <tr>\n",
              "      <th>761</th>\n",
              "      <td>9</td>\n",
              "      <td>170.0</td>\n",
              "      <td>74.0</td>\n",
              "      <td>31.0</td>\n",
              "      <td>NaN</td>\n",
              "      <td>44.0</td>\n",
              "      <td>0.403</td>\n",
              "      <td>43</td>\n",
              "      <td>1</td>\n",
              "    </tr>\n",
              "    <tr>\n",
              "      <th>766</th>\n",
              "      <td>1</td>\n",
              "      <td>126.0</td>\n",
              "      <td>60.0</td>\n",
              "      <td>NaN</td>\n",
              "      <td>NaN</td>\n",
              "      <td>30.1</td>\n",
              "      <td>0.349</td>\n",
              "      <td>47</td>\n",
              "      <td>1</td>\n",
              "    </tr>\n",
              "  </tbody>\n",
              "</table>\n",
              "<p>268 rows × 9 columns</p>\n",
              "</div>\n",
              "      <button class=\"colab-df-convert\" onclick=\"convertToInteractive('df-91fa3107-d5bb-488f-9ba7-cb58d3febc25')\"\n",
              "              title=\"Convert this dataframe to an interactive table.\"\n",
              "              style=\"display:none;\">\n",
              "        \n",
              "  <svg xmlns=\"http://www.w3.org/2000/svg\" height=\"24px\"viewBox=\"0 0 24 24\"\n",
              "       width=\"24px\">\n",
              "    <path d=\"M0 0h24v24H0V0z\" fill=\"none\"/>\n",
              "    <path d=\"M18.56 5.44l.94 2.06.94-2.06 2.06-.94-2.06-.94-.94-2.06-.94 2.06-2.06.94zm-11 1L8.5 8.5l.94-2.06 2.06-.94-2.06-.94L8.5 2.5l-.94 2.06-2.06.94zm10 10l.94 2.06.94-2.06 2.06-.94-2.06-.94-.94-2.06-.94 2.06-2.06.94z\"/><path d=\"M17.41 7.96l-1.37-1.37c-.4-.4-.92-.59-1.43-.59-.52 0-1.04.2-1.43.59L10.3 9.45l-7.72 7.72c-.78.78-.78 2.05 0 2.83L4 21.41c.39.39.9.59 1.41.59.51 0 1.02-.2 1.41-.59l7.78-7.78 2.81-2.81c.8-.78.8-2.07 0-2.86zM5.41 20L4 18.59l7.72-7.72 1.47 1.35L5.41 20z\"/>\n",
              "  </svg>\n",
              "      </button>\n",
              "      \n",
              "  <style>\n",
              "    .colab-df-container {\n",
              "      display:flex;\n",
              "      flex-wrap:wrap;\n",
              "      gap: 12px;\n",
              "    }\n",
              "\n",
              "    .colab-df-convert {\n",
              "      background-color: #E8F0FE;\n",
              "      border: none;\n",
              "      border-radius: 50%;\n",
              "      cursor: pointer;\n",
              "      display: none;\n",
              "      fill: #1967D2;\n",
              "      height: 32px;\n",
              "      padding: 0 0 0 0;\n",
              "      width: 32px;\n",
              "    }\n",
              "\n",
              "    .colab-df-convert:hover {\n",
              "      background-color: #E2EBFA;\n",
              "      box-shadow: 0px 1px 2px rgba(60, 64, 67, 0.3), 0px 1px 3px 1px rgba(60, 64, 67, 0.15);\n",
              "      fill: #174EA6;\n",
              "    }\n",
              "\n",
              "    [theme=dark] .colab-df-convert {\n",
              "      background-color: #3B4455;\n",
              "      fill: #D2E3FC;\n",
              "    }\n",
              "\n",
              "    [theme=dark] .colab-df-convert:hover {\n",
              "      background-color: #434B5C;\n",
              "      box-shadow: 0px 1px 3px 1px rgba(0, 0, 0, 0.15);\n",
              "      filter: drop-shadow(0px 1px 2px rgba(0, 0, 0, 0.3));\n",
              "      fill: #FFFFFF;\n",
              "    }\n",
              "  </style>\n",
              "\n",
              "      <script>\n",
              "        const buttonEl =\n",
              "          document.querySelector('#df-91fa3107-d5bb-488f-9ba7-cb58d3febc25 button.colab-df-convert');\n",
              "        buttonEl.style.display =\n",
              "          google.colab.kernel.accessAllowed ? 'block' : 'none';\n",
              "\n",
              "        async function convertToInteractive(key) {\n",
              "          const element = document.querySelector('#df-91fa3107-d5bb-488f-9ba7-cb58d3febc25');\n",
              "          const dataTable =\n",
              "            await google.colab.kernel.invokeFunction('convertToInteractive',\n",
              "                                                     [key], {});\n",
              "          if (!dataTable) return;\n",
              "\n",
              "          const docLinkHtml = 'Like what you see? Visit the ' +\n",
              "            '<a target=\"_blank\" href=https://colab.research.google.com/notebooks/data_table.ipynb>data table notebook</a>'\n",
              "            + ' to learn more about interactive tables.';\n",
              "          element.innerHTML = '';\n",
              "          dataTable['output_type'] = 'display_data';\n",
              "          await google.colab.output.renderOutput(dataTable, element);\n",
              "          const docLink = document.createElement('div');\n",
              "          docLink.innerHTML = docLinkHtml;\n",
              "          element.appendChild(docLink);\n",
              "        }\n",
              "      </script>\n",
              "    </div>\n",
              "  </div>\n",
              "  "
            ]
          },
          "metadata": {},
          "execution_count": 12
        }
      ]
    },
    {
      "cell_type": "code",
      "source": [
        "#양성 데이터의 NaN값을 중앙값으로 대체\n",
        "df_1[\"Glucose\"].fillna(df_1[\"Glucose\"].median(), inplace = True)\n",
        "df_1[\"BloodPressure\"].fillna(df_1[\"BloodPressure\"].median(), inplace = True)\n",
        "df_1[\"SkinThickness\"].fillna(df_1[\"SkinThickness\"].median(), inplace = True)\n",
        "df_1[\"Insulin\"].fillna(df_1[\"Insulin\"].median(), inplace = True)\n",
        "df_1[\"BMI\"].fillna(df_1[\"BMI\"].median(), inplace = True)"
      ],
      "metadata": {
        "colab": {
          "base_uri": "https://localhost:8080/"
        },
        "id": "_USLdIhr-gHg",
        "outputId": "d2e50fae-e79b-4ec3-aead-1825a5f38328"
      },
      "execution_count": null,
      "outputs": [
        {
          "output_type": "stream",
          "name": "stderr",
          "text": [
            "/usr/local/lib/python3.7/dist-packages/pandas/core/generic.py:6392: SettingWithCopyWarning: \n",
            "A value is trying to be set on a copy of a slice from a DataFrame\n",
            "\n",
            "See the caveats in the documentation: https://pandas.pydata.org/pandas-docs/stable/user_guide/indexing.html#returning-a-view-versus-a-copy\n",
            "  return self._update_inplace(result)\n",
            "/usr/local/lib/python3.7/dist-packages/pandas/core/generic.py:6392: SettingWithCopyWarning: \n",
            "A value is trying to be set on a copy of a slice from a DataFrame\n",
            "\n",
            "See the caveats in the documentation: https://pandas.pydata.org/pandas-docs/stable/user_guide/indexing.html#returning-a-view-versus-a-copy\n",
            "  return self._update_inplace(result)\n",
            "/usr/local/lib/python3.7/dist-packages/pandas/core/generic.py:6392: SettingWithCopyWarning: \n",
            "A value is trying to be set on a copy of a slice from a DataFrame\n",
            "\n",
            "See the caveats in the documentation: https://pandas.pydata.org/pandas-docs/stable/user_guide/indexing.html#returning-a-view-versus-a-copy\n",
            "  return self._update_inplace(result)\n",
            "/usr/local/lib/python3.7/dist-packages/pandas/core/generic.py:6392: SettingWithCopyWarning: \n",
            "A value is trying to be set on a copy of a slice from a DataFrame\n",
            "\n",
            "See the caveats in the documentation: https://pandas.pydata.org/pandas-docs/stable/user_guide/indexing.html#returning-a-view-versus-a-copy\n",
            "  return self._update_inplace(result)\n",
            "/usr/local/lib/python3.7/dist-packages/pandas/core/generic.py:6392: SettingWithCopyWarning: \n",
            "A value is trying to be set on a copy of a slice from a DataFrame\n",
            "\n",
            "See the caveats in the documentation: https://pandas.pydata.org/pandas-docs/stable/user_guide/indexing.html#returning-a-view-versus-a-copy\n",
            "  return self._update_inplace(result)\n"
          ]
        }
      ]
    },
    {
      "cell_type": "code",
      "source": [
        "df_0= df[df['Outcome']==0]\n",
        "df_0"
      ],
      "metadata": {
        "colab": {
          "base_uri": "https://localhost:8080/",
          "height": 487
        },
        "id": "9RynEO2G-yeK",
        "outputId": "e9997099-28d6-452b-b60a-51f1717decbb"
      },
      "execution_count": null,
      "outputs": [
        {
          "output_type": "execute_result",
          "data": {
            "text/plain": [
              "     Pregnancies  Glucose  BloodPressure  SkinThickness  Insulin   BMI  \\\n",
              "1              1     85.0           66.0           29.0      NaN  26.6   \n",
              "3              1     89.0           66.0           23.0     94.0  28.1   \n",
              "5              5    116.0           74.0            NaN      NaN  25.6   \n",
              "7             10    115.0            NaN            NaN      NaN  35.3   \n",
              "10             4    110.0           92.0            NaN      NaN  37.6   \n",
              "..           ...      ...            ...            ...      ...   ...   \n",
              "762            9     89.0           62.0            NaN      NaN  22.5   \n",
              "763           10    101.0           76.0           48.0    180.0  32.9   \n",
              "764            2    122.0           70.0           27.0      NaN  36.8   \n",
              "765            5    121.0           72.0           23.0    112.0  26.2   \n",
              "767            1     93.0           70.0           31.0      NaN  30.4   \n",
              "\n",
              "     DiabetesPedigreeFunction  Age  Outcome  \n",
              "1                       0.351   31        0  \n",
              "3                       0.167   21        0  \n",
              "5                       0.201   30        0  \n",
              "7                       0.134   29        0  \n",
              "10                      0.191   30        0  \n",
              "..                        ...  ...      ...  \n",
              "762                     0.142   33        0  \n",
              "763                     0.171   63        0  \n",
              "764                     0.340   27        0  \n",
              "765                     0.245   30        0  \n",
              "767                     0.315   23        0  \n",
              "\n",
              "[500 rows x 9 columns]"
            ],
            "text/html": [
              "\n",
              "  <div id=\"df-08348960-221a-482d-bd26-08ad4bcb789d\">\n",
              "    <div class=\"colab-df-container\">\n",
              "      <div>\n",
              "<style scoped>\n",
              "    .dataframe tbody tr th:only-of-type {\n",
              "        vertical-align: middle;\n",
              "    }\n",
              "\n",
              "    .dataframe tbody tr th {\n",
              "        vertical-align: top;\n",
              "    }\n",
              "\n",
              "    .dataframe thead th {\n",
              "        text-align: right;\n",
              "    }\n",
              "</style>\n",
              "<table border=\"1\" class=\"dataframe\">\n",
              "  <thead>\n",
              "    <tr style=\"text-align: right;\">\n",
              "      <th></th>\n",
              "      <th>Pregnancies</th>\n",
              "      <th>Glucose</th>\n",
              "      <th>BloodPressure</th>\n",
              "      <th>SkinThickness</th>\n",
              "      <th>Insulin</th>\n",
              "      <th>BMI</th>\n",
              "      <th>DiabetesPedigreeFunction</th>\n",
              "      <th>Age</th>\n",
              "      <th>Outcome</th>\n",
              "    </tr>\n",
              "  </thead>\n",
              "  <tbody>\n",
              "    <tr>\n",
              "      <th>1</th>\n",
              "      <td>1</td>\n",
              "      <td>85.0</td>\n",
              "      <td>66.0</td>\n",
              "      <td>29.0</td>\n",
              "      <td>NaN</td>\n",
              "      <td>26.6</td>\n",
              "      <td>0.351</td>\n",
              "      <td>31</td>\n",
              "      <td>0</td>\n",
              "    </tr>\n",
              "    <tr>\n",
              "      <th>3</th>\n",
              "      <td>1</td>\n",
              "      <td>89.0</td>\n",
              "      <td>66.0</td>\n",
              "      <td>23.0</td>\n",
              "      <td>94.0</td>\n",
              "      <td>28.1</td>\n",
              "      <td>0.167</td>\n",
              "      <td>21</td>\n",
              "      <td>0</td>\n",
              "    </tr>\n",
              "    <tr>\n",
              "      <th>5</th>\n",
              "      <td>5</td>\n",
              "      <td>116.0</td>\n",
              "      <td>74.0</td>\n",
              "      <td>NaN</td>\n",
              "      <td>NaN</td>\n",
              "      <td>25.6</td>\n",
              "      <td>0.201</td>\n",
              "      <td>30</td>\n",
              "      <td>0</td>\n",
              "    </tr>\n",
              "    <tr>\n",
              "      <th>7</th>\n",
              "      <td>10</td>\n",
              "      <td>115.0</td>\n",
              "      <td>NaN</td>\n",
              "      <td>NaN</td>\n",
              "      <td>NaN</td>\n",
              "      <td>35.3</td>\n",
              "      <td>0.134</td>\n",
              "      <td>29</td>\n",
              "      <td>0</td>\n",
              "    </tr>\n",
              "    <tr>\n",
              "      <th>10</th>\n",
              "      <td>4</td>\n",
              "      <td>110.0</td>\n",
              "      <td>92.0</td>\n",
              "      <td>NaN</td>\n",
              "      <td>NaN</td>\n",
              "      <td>37.6</td>\n",
              "      <td>0.191</td>\n",
              "      <td>30</td>\n",
              "      <td>0</td>\n",
              "    </tr>\n",
              "    <tr>\n",
              "      <th>...</th>\n",
              "      <td>...</td>\n",
              "      <td>...</td>\n",
              "      <td>...</td>\n",
              "      <td>...</td>\n",
              "      <td>...</td>\n",
              "      <td>...</td>\n",
              "      <td>...</td>\n",
              "      <td>...</td>\n",
              "      <td>...</td>\n",
              "    </tr>\n",
              "    <tr>\n",
              "      <th>762</th>\n",
              "      <td>9</td>\n",
              "      <td>89.0</td>\n",
              "      <td>62.0</td>\n",
              "      <td>NaN</td>\n",
              "      <td>NaN</td>\n",
              "      <td>22.5</td>\n",
              "      <td>0.142</td>\n",
              "      <td>33</td>\n",
              "      <td>0</td>\n",
              "    </tr>\n",
              "    <tr>\n",
              "      <th>763</th>\n",
              "      <td>10</td>\n",
              "      <td>101.0</td>\n",
              "      <td>76.0</td>\n",
              "      <td>48.0</td>\n",
              "      <td>180.0</td>\n",
              "      <td>32.9</td>\n",
              "      <td>0.171</td>\n",
              "      <td>63</td>\n",
              "      <td>0</td>\n",
              "    </tr>\n",
              "    <tr>\n",
              "      <th>764</th>\n",
              "      <td>2</td>\n",
              "      <td>122.0</td>\n",
              "      <td>70.0</td>\n",
              "      <td>27.0</td>\n",
              "      <td>NaN</td>\n",
              "      <td>36.8</td>\n",
              "      <td>0.340</td>\n",
              "      <td>27</td>\n",
              "      <td>0</td>\n",
              "    </tr>\n",
              "    <tr>\n",
              "      <th>765</th>\n",
              "      <td>5</td>\n",
              "      <td>121.0</td>\n",
              "      <td>72.0</td>\n",
              "      <td>23.0</td>\n",
              "      <td>112.0</td>\n",
              "      <td>26.2</td>\n",
              "      <td>0.245</td>\n",
              "      <td>30</td>\n",
              "      <td>0</td>\n",
              "    </tr>\n",
              "    <tr>\n",
              "      <th>767</th>\n",
              "      <td>1</td>\n",
              "      <td>93.0</td>\n",
              "      <td>70.0</td>\n",
              "      <td>31.0</td>\n",
              "      <td>NaN</td>\n",
              "      <td>30.4</td>\n",
              "      <td>0.315</td>\n",
              "      <td>23</td>\n",
              "      <td>0</td>\n",
              "    </tr>\n",
              "  </tbody>\n",
              "</table>\n",
              "<p>500 rows × 9 columns</p>\n",
              "</div>\n",
              "      <button class=\"colab-df-convert\" onclick=\"convertToInteractive('df-08348960-221a-482d-bd26-08ad4bcb789d')\"\n",
              "              title=\"Convert this dataframe to an interactive table.\"\n",
              "              style=\"display:none;\">\n",
              "        \n",
              "  <svg xmlns=\"http://www.w3.org/2000/svg\" height=\"24px\"viewBox=\"0 0 24 24\"\n",
              "       width=\"24px\">\n",
              "    <path d=\"M0 0h24v24H0V0z\" fill=\"none\"/>\n",
              "    <path d=\"M18.56 5.44l.94 2.06.94-2.06 2.06-.94-2.06-.94-.94-2.06-.94 2.06-2.06.94zm-11 1L8.5 8.5l.94-2.06 2.06-.94-2.06-.94L8.5 2.5l-.94 2.06-2.06.94zm10 10l.94 2.06.94-2.06 2.06-.94-2.06-.94-.94-2.06-.94 2.06-2.06.94z\"/><path d=\"M17.41 7.96l-1.37-1.37c-.4-.4-.92-.59-1.43-.59-.52 0-1.04.2-1.43.59L10.3 9.45l-7.72 7.72c-.78.78-.78 2.05 0 2.83L4 21.41c.39.39.9.59 1.41.59.51 0 1.02-.2 1.41-.59l7.78-7.78 2.81-2.81c.8-.78.8-2.07 0-2.86zM5.41 20L4 18.59l7.72-7.72 1.47 1.35L5.41 20z\"/>\n",
              "  </svg>\n",
              "      </button>\n",
              "      \n",
              "  <style>\n",
              "    .colab-df-container {\n",
              "      display:flex;\n",
              "      flex-wrap:wrap;\n",
              "      gap: 12px;\n",
              "    }\n",
              "\n",
              "    .colab-df-convert {\n",
              "      background-color: #E8F0FE;\n",
              "      border: none;\n",
              "      border-radius: 50%;\n",
              "      cursor: pointer;\n",
              "      display: none;\n",
              "      fill: #1967D2;\n",
              "      height: 32px;\n",
              "      padding: 0 0 0 0;\n",
              "      width: 32px;\n",
              "    }\n",
              "\n",
              "    .colab-df-convert:hover {\n",
              "      background-color: #E2EBFA;\n",
              "      box-shadow: 0px 1px 2px rgba(60, 64, 67, 0.3), 0px 1px 3px 1px rgba(60, 64, 67, 0.15);\n",
              "      fill: #174EA6;\n",
              "    }\n",
              "\n",
              "    [theme=dark] .colab-df-convert {\n",
              "      background-color: #3B4455;\n",
              "      fill: #D2E3FC;\n",
              "    }\n",
              "\n",
              "    [theme=dark] .colab-df-convert:hover {\n",
              "      background-color: #434B5C;\n",
              "      box-shadow: 0px 1px 3px 1px rgba(0, 0, 0, 0.15);\n",
              "      filter: drop-shadow(0px 1px 2px rgba(0, 0, 0, 0.3));\n",
              "      fill: #FFFFFF;\n",
              "    }\n",
              "  </style>\n",
              "\n",
              "      <script>\n",
              "        const buttonEl =\n",
              "          document.querySelector('#df-08348960-221a-482d-bd26-08ad4bcb789d button.colab-df-convert');\n",
              "        buttonEl.style.display =\n",
              "          google.colab.kernel.accessAllowed ? 'block' : 'none';\n",
              "\n",
              "        async function convertToInteractive(key) {\n",
              "          const element = document.querySelector('#df-08348960-221a-482d-bd26-08ad4bcb789d');\n",
              "          const dataTable =\n",
              "            await google.colab.kernel.invokeFunction('convertToInteractive',\n",
              "                                                     [key], {});\n",
              "          if (!dataTable) return;\n",
              "\n",
              "          const docLinkHtml = 'Like what you see? Visit the ' +\n",
              "            '<a target=\"_blank\" href=https://colab.research.google.com/notebooks/data_table.ipynb>data table notebook</a>'\n",
              "            + ' to learn more about interactive tables.';\n",
              "          element.innerHTML = '';\n",
              "          dataTable['output_type'] = 'display_data';\n",
              "          await google.colab.output.renderOutput(dataTable, element);\n",
              "          const docLink = document.createElement('div');\n",
              "          docLink.innerHTML = docLinkHtml;\n",
              "          element.appendChild(docLink);\n",
              "        }\n",
              "      </script>\n",
              "    </div>\n",
              "  </div>\n",
              "  "
            ]
          },
          "metadata": {},
          "execution_count": 14
        }
      ]
    },
    {
      "cell_type": "code",
      "source": [
        "#음성 데이터의 NaN값을 중앙값으로 대체\n",
        "df_0[\"Glucose\"].fillna(df_0[\"Glucose\"].median(), inplace = True)\n",
        "df_0[\"BloodPressure\"].fillna(df_0[\"BloodPressure\"].median(), inplace = True)\n",
        "df_0[\"SkinThickness\"].fillna(df_0[\"SkinThickness\"].median(), inplace = True)\n",
        "df_0[\"Insulin\"].fillna(df_0[\"Insulin\"].median(), inplace = True)\n",
        "df_0[\"BMI\"].fillna(df_0[\"BMI\"].median(), inplace = True)"
      ],
      "metadata": {
        "colab": {
          "base_uri": "https://localhost:8080/"
        },
        "id": "1ooqna2x-1CM",
        "outputId": "3e832b4e-1ba9-4f46-800b-827244b731d0"
      },
      "execution_count": null,
      "outputs": [
        {
          "output_type": "stream",
          "name": "stderr",
          "text": [
            "/usr/local/lib/python3.7/dist-packages/pandas/core/generic.py:6392: SettingWithCopyWarning: \n",
            "A value is trying to be set on a copy of a slice from a DataFrame\n",
            "\n",
            "See the caveats in the documentation: https://pandas.pydata.org/pandas-docs/stable/user_guide/indexing.html#returning-a-view-versus-a-copy\n",
            "  return self._update_inplace(result)\n",
            "/usr/local/lib/python3.7/dist-packages/pandas/core/generic.py:6392: SettingWithCopyWarning: \n",
            "A value is trying to be set on a copy of a slice from a DataFrame\n",
            "\n",
            "See the caveats in the documentation: https://pandas.pydata.org/pandas-docs/stable/user_guide/indexing.html#returning-a-view-versus-a-copy\n",
            "  return self._update_inplace(result)\n",
            "/usr/local/lib/python3.7/dist-packages/pandas/core/generic.py:6392: SettingWithCopyWarning: \n",
            "A value is trying to be set on a copy of a slice from a DataFrame\n",
            "\n",
            "See the caveats in the documentation: https://pandas.pydata.org/pandas-docs/stable/user_guide/indexing.html#returning-a-view-versus-a-copy\n",
            "  return self._update_inplace(result)\n",
            "/usr/local/lib/python3.7/dist-packages/pandas/core/generic.py:6392: SettingWithCopyWarning: \n",
            "A value is trying to be set on a copy of a slice from a DataFrame\n",
            "\n",
            "See the caveats in the documentation: https://pandas.pydata.org/pandas-docs/stable/user_guide/indexing.html#returning-a-view-versus-a-copy\n",
            "  return self._update_inplace(result)\n",
            "/usr/local/lib/python3.7/dist-packages/pandas/core/generic.py:6392: SettingWithCopyWarning: \n",
            "A value is trying to be set on a copy of a slice from a DataFrame\n",
            "\n",
            "See the caveats in the documentation: https://pandas.pydata.org/pandas-docs/stable/user_guide/indexing.html#returning-a-view-versus-a-copy\n",
            "  return self._update_inplace(result)\n"
          ]
        }
      ]
    },
    {
      "cell_type": "code",
      "source": [
        "#중앙값으로 대체한 데이터프레임을 하나로 합침\n",
        "df = pd.concat([df_1,df_0])\n",
        "print(df)"
      ],
      "metadata": {
        "colab": {
          "base_uri": "https://localhost:8080/"
        },
        "id": "0xzLa6xZ-7Uo",
        "outputId": "8ea2b721-9c12-44e1-f4b1-879bd7bf3927"
      },
      "execution_count": null,
      "outputs": [
        {
          "output_type": "stream",
          "name": "stdout",
          "text": [
            "     Pregnancies  Glucose  BloodPressure  SkinThickness  Insulin   BMI  \\\n",
            "0              6    148.0           72.0           35.0    169.5  33.6   \n",
            "2              8    183.0           64.0           32.0    169.5  23.3   \n",
            "4              0    137.0           40.0           35.0    168.0  43.1   \n",
            "6              3     78.0           50.0           32.0     88.0  31.0   \n",
            "8              2    197.0           70.0           45.0    543.0  30.5   \n",
            "..           ...      ...            ...            ...      ...   ...   \n",
            "762            9     89.0           62.0           27.0    102.5  22.5   \n",
            "763           10    101.0           76.0           48.0    180.0  32.9   \n",
            "764            2    122.0           70.0           27.0    102.5  36.8   \n",
            "765            5    121.0           72.0           23.0    112.0  26.2   \n",
            "767            1     93.0           70.0           31.0    102.5  30.4   \n",
            "\n",
            "     DiabetesPedigreeFunction  Age  Outcome  \n",
            "0                       0.627   50        1  \n",
            "2                       0.672   32        1  \n",
            "4                       2.288   33        1  \n",
            "6                       0.248   26        1  \n",
            "8                       0.158   53        1  \n",
            "..                        ...  ...      ...  \n",
            "762                     0.142   33        0  \n",
            "763                     0.171   63        0  \n",
            "764                     0.340   27        0  \n",
            "765                     0.245   30        0  \n",
            "767                     0.315   23        0  \n",
            "\n",
            "[768 rows x 9 columns]\n"
          ]
        }
      ]
    },
    {
      "cell_type": "markdown",
      "source": [
        "###2.3 수치형 데이터 scaler"
      ],
      "metadata": {
        "id": "O23Ds9FLHab0"
      }
    },
    {
      "cell_type": "code",
      "source": [
        "x= df.drop(columns=['Outcome'],axis=1)\n",
        "y=df['Outcome']"
      ],
      "metadata": {
        "id": "VXlRuakbH6ck"
      },
      "execution_count": null,
      "outputs": []
    },
    {
      "cell_type": "code",
      "source": [
        "from sklearn.preprocessing import StandardScaler\n",
        "scaler = StandardScaler()"
      ],
      "metadata": {
        "id": "EnqpzOhFHeDn"
      },
      "execution_count": null,
      "outputs": []
    },
    {
      "cell_type": "code",
      "source": [
        "scaler.fit(x)"
      ],
      "metadata": {
        "colab": {
          "base_uri": "https://localhost:8080/"
        },
        "id": "OQTHmON_HhoM",
        "outputId": "2e803e98-1e34-4853-c642-a882f6d753ef"
      },
      "execution_count": null,
      "outputs": [
        {
          "output_type": "execute_result",
          "data": {
            "text/plain": [
              "StandardScaler()"
            ]
          },
          "metadata": {},
          "execution_count": 47
        }
      ]
    },
    {
      "cell_type": "code",
      "source": [
        "standarized_data = scaler.transform(x)"
      ],
      "metadata": {
        "id": "b0_2t75nH9sO"
      },
      "execution_count": null,
      "outputs": []
    },
    {
      "cell_type": "code",
      "source": [
        "print(standarized_data)"
      ],
      "metadata": {
        "colab": {
          "base_uri": "https://localhost:8080/"
        },
        "id": "Hz6KoXzzHvR0",
        "outputId": "c1a206f2-7725-43a2-a1be-8e1692598f76"
      },
      "execution_count": null,
      "outputs": [
        {
          "output_type": "stream",
          "name": "stdout",
          "text": [
            "[[ 0.63994726  0.86462486 -0.03218035 ...  0.16948251  0.46849198\n",
            "   1.4259954 ]\n",
            " [ 1.23388019  2.01426457 -0.69343821 ... -1.32847775  0.60439732\n",
            "  -0.10558415]\n",
            " [-1.14185152  0.50330953 -2.67721176 ...  1.55109634  5.4849091\n",
            "  -0.0204964 ]\n",
            " ...\n",
            " [-0.54791859  0.01060679 -0.19749482 ...  0.63486822 -0.39828208\n",
            "  -0.53102292]\n",
            " [ 0.3429808  -0.02224005 -0.03218035 ... -0.90672195 -0.68519336\n",
            "  -0.27575966]\n",
            " [-0.84488505 -0.94195182 -0.19749482 ... -0.2959032  -0.47378505\n",
            "  -0.87137393]]\n"
          ]
        }
      ]
    },
    {
      "cell_type": "code",
      "source": [
        "x=standarized_data\n",
        "y=df['Outcome']"
      ],
      "metadata": {
        "id": "I0cQ1qJNIJJd"
      },
      "execution_count": null,
      "outputs": []
    },
    {
      "cell_type": "markdown",
      "source": [
        "###2.4 train,test 데이터 분리"
      ],
      "metadata": {
        "id": "zzNG2K1lIWxM"
      }
    },
    {
      "cell_type": "code",
      "source": [
        "from sklearn.model_selection import train_test_split\n",
        "x_train, x_test, y_train, y_test = train_test_split(x, y, test_size = 0.2, random_state = 42)"
      ],
      "metadata": {
        "id": "kvTie2fBIeO9"
      },
      "execution_count": null,
      "outputs": []
    },
    {
      "cell_type": "markdown",
      "source": [
        "##3.시각화\n",
        "\n"
      ],
      "metadata": {
        "id": "hegvBr-7_O0a"
      }
    },
    {
      "cell_type": "markdown",
      "source": [
        "###3.1 각 인덱스별 관련도 알아보기 ( outcome과의 연관도, 각 인덱스별 연관도 히트맵으로 그리기)"
      ],
      "metadata": {
        "id": "Jhwph2KT_ULI"
      }
    },
    {
      "cell_type": "code",
      "source": [
        "df.corr()"
      ],
      "metadata": {
        "colab": {
          "base_uri": "https://localhost:8080/",
          "height": 395
        },
        "id": "YvlcgZ5W_Gal",
        "outputId": "3af51daa-0032-4836-9f1a-fbf981ae4ad7"
      },
      "execution_count": null,
      "outputs": [
        {
          "output_type": "execute_result",
          "data": {
            "text/plain": [
              "                          Pregnancies   Glucose  BloodPressure  SkinThickness  \\\n",
              "Pregnancies                  1.000000  0.130155       0.209151       0.089028   \n",
              "Glucose                      0.130155  1.000000       0.225141       0.229289   \n",
              "BloodPressure                0.209151  0.225141       1.000000       0.199349   \n",
              "SkinThickness                0.089028  0.229289       0.199349       1.000000   \n",
              "Insulin                      0.058767  0.490015       0.070128       0.200129   \n",
              "BMI                          0.023890  0.236171       0.286399       0.566086   \n",
              "DiabetesPedigreeFunction    -0.033523  0.138353      -0.001443       0.106280   \n",
              "Age                          0.544341  0.268910       0.325135       0.129537   \n",
              "Outcome                      0.221898  0.495990       0.174469       0.295138   \n",
              "\n",
              "                           Insulin       BMI  DiabetesPedigreeFunction  \\\n",
              "Pregnancies               0.058767  0.023890                 -0.033523   \n",
              "Glucose                   0.490015  0.236171                  0.138353   \n",
              "BloodPressure             0.070128  0.286399                 -0.001443   \n",
              "SkinThickness             0.200129  0.566086                  0.106280   \n",
              "Insulin                   1.000000  0.238443                  0.146878   \n",
              "BMI                       0.238443  1.000000                  0.152771   \n",
              "DiabetesPedigreeFunction  0.146878  0.152771                  1.000000   \n",
              "Age                       0.123629  0.027849                  0.033561   \n",
              "Outcome                   0.377081  0.315577                  0.173844   \n",
              "\n",
              "                               Age   Outcome  \n",
              "Pregnancies               0.544341  0.221898  \n",
              "Glucose                   0.268910  0.495990  \n",
              "BloodPressure             0.325135  0.174469  \n",
              "SkinThickness             0.129537  0.295138  \n",
              "Insulin                   0.123629  0.377081  \n",
              "BMI                       0.027849  0.315577  \n",
              "DiabetesPedigreeFunction  0.033561  0.173844  \n",
              "Age                       1.000000  0.238356  \n",
              "Outcome                   0.238356  1.000000  "
            ],
            "text/html": [
              "\n",
              "  <div id=\"df-11e292ae-6bef-4d79-9a57-7a5cce49ab2d\">\n",
              "    <div class=\"colab-df-container\">\n",
              "      <div>\n",
              "<style scoped>\n",
              "    .dataframe tbody tr th:only-of-type {\n",
              "        vertical-align: middle;\n",
              "    }\n",
              "\n",
              "    .dataframe tbody tr th {\n",
              "        vertical-align: top;\n",
              "    }\n",
              "\n",
              "    .dataframe thead th {\n",
              "        text-align: right;\n",
              "    }\n",
              "</style>\n",
              "<table border=\"1\" class=\"dataframe\">\n",
              "  <thead>\n",
              "    <tr style=\"text-align: right;\">\n",
              "      <th></th>\n",
              "      <th>Pregnancies</th>\n",
              "      <th>Glucose</th>\n",
              "      <th>BloodPressure</th>\n",
              "      <th>SkinThickness</th>\n",
              "      <th>Insulin</th>\n",
              "      <th>BMI</th>\n",
              "      <th>DiabetesPedigreeFunction</th>\n",
              "      <th>Age</th>\n",
              "      <th>Outcome</th>\n",
              "    </tr>\n",
              "  </thead>\n",
              "  <tbody>\n",
              "    <tr>\n",
              "      <th>Pregnancies</th>\n",
              "      <td>1.000000</td>\n",
              "      <td>0.130155</td>\n",
              "      <td>0.209151</td>\n",
              "      <td>0.089028</td>\n",
              "      <td>0.058767</td>\n",
              "      <td>0.023890</td>\n",
              "      <td>-0.033523</td>\n",
              "      <td>0.544341</td>\n",
              "      <td>0.221898</td>\n",
              "    </tr>\n",
              "    <tr>\n",
              "      <th>Glucose</th>\n",
              "      <td>0.130155</td>\n",
              "      <td>1.000000</td>\n",
              "      <td>0.225141</td>\n",
              "      <td>0.229289</td>\n",
              "      <td>0.490015</td>\n",
              "      <td>0.236171</td>\n",
              "      <td>0.138353</td>\n",
              "      <td>0.268910</td>\n",
              "      <td>0.495990</td>\n",
              "    </tr>\n",
              "    <tr>\n",
              "      <th>BloodPressure</th>\n",
              "      <td>0.209151</td>\n",
              "      <td>0.225141</td>\n",
              "      <td>1.000000</td>\n",
              "      <td>0.199349</td>\n",
              "      <td>0.070128</td>\n",
              "      <td>0.286399</td>\n",
              "      <td>-0.001443</td>\n",
              "      <td>0.325135</td>\n",
              "      <td>0.174469</td>\n",
              "    </tr>\n",
              "    <tr>\n",
              "      <th>SkinThickness</th>\n",
              "      <td>0.089028</td>\n",
              "      <td>0.229289</td>\n",
              "      <td>0.199349</td>\n",
              "      <td>1.000000</td>\n",
              "      <td>0.200129</td>\n",
              "      <td>0.566086</td>\n",
              "      <td>0.106280</td>\n",
              "      <td>0.129537</td>\n",
              "      <td>0.295138</td>\n",
              "    </tr>\n",
              "    <tr>\n",
              "      <th>Insulin</th>\n",
              "      <td>0.058767</td>\n",
              "      <td>0.490015</td>\n",
              "      <td>0.070128</td>\n",
              "      <td>0.200129</td>\n",
              "      <td>1.000000</td>\n",
              "      <td>0.238443</td>\n",
              "      <td>0.146878</td>\n",
              "      <td>0.123629</td>\n",
              "      <td>0.377081</td>\n",
              "    </tr>\n",
              "    <tr>\n",
              "      <th>BMI</th>\n",
              "      <td>0.023890</td>\n",
              "      <td>0.236171</td>\n",
              "      <td>0.286399</td>\n",
              "      <td>0.566086</td>\n",
              "      <td>0.238443</td>\n",
              "      <td>1.000000</td>\n",
              "      <td>0.152771</td>\n",
              "      <td>0.027849</td>\n",
              "      <td>0.315577</td>\n",
              "    </tr>\n",
              "    <tr>\n",
              "      <th>DiabetesPedigreeFunction</th>\n",
              "      <td>-0.033523</td>\n",
              "      <td>0.138353</td>\n",
              "      <td>-0.001443</td>\n",
              "      <td>0.106280</td>\n",
              "      <td>0.146878</td>\n",
              "      <td>0.152771</td>\n",
              "      <td>1.000000</td>\n",
              "      <td>0.033561</td>\n",
              "      <td>0.173844</td>\n",
              "    </tr>\n",
              "    <tr>\n",
              "      <th>Age</th>\n",
              "      <td>0.544341</td>\n",
              "      <td>0.268910</td>\n",
              "      <td>0.325135</td>\n",
              "      <td>0.129537</td>\n",
              "      <td>0.123629</td>\n",
              "      <td>0.027849</td>\n",
              "      <td>0.033561</td>\n",
              "      <td>1.000000</td>\n",
              "      <td>0.238356</td>\n",
              "    </tr>\n",
              "    <tr>\n",
              "      <th>Outcome</th>\n",
              "      <td>0.221898</td>\n",
              "      <td>0.495990</td>\n",
              "      <td>0.174469</td>\n",
              "      <td>0.295138</td>\n",
              "      <td>0.377081</td>\n",
              "      <td>0.315577</td>\n",
              "      <td>0.173844</td>\n",
              "      <td>0.238356</td>\n",
              "      <td>1.000000</td>\n",
              "    </tr>\n",
              "  </tbody>\n",
              "</table>\n",
              "</div>\n",
              "      <button class=\"colab-df-convert\" onclick=\"convertToInteractive('df-11e292ae-6bef-4d79-9a57-7a5cce49ab2d')\"\n",
              "              title=\"Convert this dataframe to an interactive table.\"\n",
              "              style=\"display:none;\">\n",
              "        \n",
              "  <svg xmlns=\"http://www.w3.org/2000/svg\" height=\"24px\"viewBox=\"0 0 24 24\"\n",
              "       width=\"24px\">\n",
              "    <path d=\"M0 0h24v24H0V0z\" fill=\"none\"/>\n",
              "    <path d=\"M18.56 5.44l.94 2.06.94-2.06 2.06-.94-2.06-.94-.94-2.06-.94 2.06-2.06.94zm-11 1L8.5 8.5l.94-2.06 2.06-.94-2.06-.94L8.5 2.5l-.94 2.06-2.06.94zm10 10l.94 2.06.94-2.06 2.06-.94-2.06-.94-.94-2.06-.94 2.06-2.06.94z\"/><path d=\"M17.41 7.96l-1.37-1.37c-.4-.4-.92-.59-1.43-.59-.52 0-1.04.2-1.43.59L10.3 9.45l-7.72 7.72c-.78.78-.78 2.05 0 2.83L4 21.41c.39.39.9.59 1.41.59.51 0 1.02-.2 1.41-.59l7.78-7.78 2.81-2.81c.8-.78.8-2.07 0-2.86zM5.41 20L4 18.59l7.72-7.72 1.47 1.35L5.41 20z\"/>\n",
              "  </svg>\n",
              "      </button>\n",
              "      \n",
              "  <style>\n",
              "    .colab-df-container {\n",
              "      display:flex;\n",
              "      flex-wrap:wrap;\n",
              "      gap: 12px;\n",
              "    }\n",
              "\n",
              "    .colab-df-convert {\n",
              "      background-color: #E8F0FE;\n",
              "      border: none;\n",
              "      border-radius: 50%;\n",
              "      cursor: pointer;\n",
              "      display: none;\n",
              "      fill: #1967D2;\n",
              "      height: 32px;\n",
              "      padding: 0 0 0 0;\n",
              "      width: 32px;\n",
              "    }\n",
              "\n",
              "    .colab-df-convert:hover {\n",
              "      background-color: #E2EBFA;\n",
              "      box-shadow: 0px 1px 2px rgba(60, 64, 67, 0.3), 0px 1px 3px 1px rgba(60, 64, 67, 0.15);\n",
              "      fill: #174EA6;\n",
              "    }\n",
              "\n",
              "    [theme=dark] .colab-df-convert {\n",
              "      background-color: #3B4455;\n",
              "      fill: #D2E3FC;\n",
              "    }\n",
              "\n",
              "    [theme=dark] .colab-df-convert:hover {\n",
              "      background-color: #434B5C;\n",
              "      box-shadow: 0px 1px 3px 1px rgba(0, 0, 0, 0.15);\n",
              "      filter: drop-shadow(0px 1px 2px rgba(0, 0, 0, 0.3));\n",
              "      fill: #FFFFFF;\n",
              "    }\n",
              "  </style>\n",
              "\n",
              "      <script>\n",
              "        const buttonEl =\n",
              "          document.querySelector('#df-11e292ae-6bef-4d79-9a57-7a5cce49ab2d button.colab-df-convert');\n",
              "        buttonEl.style.display =\n",
              "          google.colab.kernel.accessAllowed ? 'block' : 'none';\n",
              "\n",
              "        async function convertToInteractive(key) {\n",
              "          const element = document.querySelector('#df-11e292ae-6bef-4d79-9a57-7a5cce49ab2d');\n",
              "          const dataTable =\n",
              "            await google.colab.kernel.invokeFunction('convertToInteractive',\n",
              "                                                     [key], {});\n",
              "          if (!dataTable) return;\n",
              "\n",
              "          const docLinkHtml = 'Like what you see? Visit the ' +\n",
              "            '<a target=\"_blank\" href=https://colab.research.google.com/notebooks/data_table.ipynb>data table notebook</a>'\n",
              "            + ' to learn more about interactive tables.';\n",
              "          element.innerHTML = '';\n",
              "          dataTable['output_type'] = 'display_data';\n",
              "          await google.colab.output.renderOutput(dataTable, element);\n",
              "          const docLink = document.createElement('div');\n",
              "          docLink.innerHTML = docLinkHtml;\n",
              "          element.appendChild(docLink);\n",
              "        }\n",
              "      </script>\n",
              "    </div>\n",
              "  </div>\n",
              "  "
            ]
          },
          "metadata": {},
          "execution_count": 17
        }
      ]
    },
    {
      "cell_type": "code",
      "source": [
        "#히트맵으로 연관도 확인\n",
        "sns.heatmap(df.corr(), annot = True)\n",
        "plt.show()\n",
        "# SkinThickness & BMI : 0.57\n",
        "# Pregnancies & Age : 0.54\n",
        "# Outcome & Glucose : 0.5"
      ],
      "metadata": {
        "colab": {
          "base_uri": "https://localhost:8080/",
          "height": 390
        },
        "id": "wrdzWMde_abu",
        "outputId": "a70f0359-5619-4d84-c482-5b23dd4b1174"
      },
      "execution_count": null,
      "outputs": [
        {
          "output_type": "display_data",
          "data": {
            "text/plain": [
              "<Figure size 432x288 with 2 Axes>"
            ],
            "image/png": "[encoded data removed]"
          },
          "metadata": {
            "needs_background": "light"
          }
        }
      ]
    },
    {
      "cell_type": "code",
      "source": [
        "sns.heatmap(df.corr()[['Outcome']],annot=True)\n",
        "plt.show()"
      ],
      "metadata": {
        "colab": {
          "base_uri": "https://localhost:8080/",
          "height": 269
        },
        "id": "3N6QKfYR_g_r",
        "outputId": "97ba6010-c50f-463f-81ce-2c620fbc6dc7"
      },
      "execution_count": null,
      "outputs": [
        {
          "output_type": "display_data",
          "data": {
            "text/plain": [
              "<Figure size 432x288 with 2 Axes>"
            ],
            "image/png": "[encoded data removed]"
          },
          "metadata": {
            "needs_background": "light"
          }
        }
      ]
    },
    {
      "cell_type": "code",
      "source": [
        "df.corr()[\"Outcome\"].sort_values(ascending=False)\n",
        "#Glucose                     0.495990\n",
        "#Insulin                     0.377081\n",
        "#BMI                         0.315577\n",
        "#SkinThickness               0.295138\n",
        "#Age                         0.238356"
      ],
      "metadata": {
        "colab": {
          "base_uri": "https://localhost:8080/"
        },
        "id": "PptDPlC3_mdM",
        "outputId": "476e5b3a-ad67-40fc-c861-47b871891c67"
      },
      "execution_count": null,
      "outputs": [
        {
          "output_type": "execute_result",
          "data": {
            "text/plain": [
              "Outcome                     1.000000\n",
              "Glucose                     0.495990\n",
              "Insulin                     0.377081\n",
              "BMI                         0.315577\n",
              "SkinThickness               0.295138\n",
              "Age                         0.238356\n",
              "Pregnancies                 0.221898\n",
              "BloodPressure               0.174469\n",
              "DiabetesPedigreeFunction    0.173844\n",
              "Name: Outcome, dtype: float64"
            ]
          },
          "metadata": {},
          "execution_count": 20
        }
      ]
    },
    {
      "cell_type": "markdown",
      "source": [
        "###3.2 당뇨와 가장 연관도 높은 5가지 유형을 막대그래프로 시각화 ( 당뇨음성 - 유형1, 당뇨양성 - 유형1 )"
      ],
      "metadata": {
        "id": "ePXNlIZ3BOsF"
      }
    },
    {
      "cell_type": "code",
      "source": [
        "\n",
        "plt.figure(figsize = (8,5))\n",
        "plt.title('Outcome & Glucose의 분포')\n",
        "sns.distplot(df['Glucose'][df['Outcome'] == 1], bins =70, color = 'r',)\n",
        "sns.distplot(df['Glucose'][df['Outcome'] == 0], bins =70)\n",
        "plt.legend(labels = ['Positive','Negative'], loc = 'upper right')"
      ],
      "metadata": {
        "colab": {
          "base_uri": "https://localhost:8080/",
          "height": 827
        },
        "id": "LdW43ZTcANWP",
        "outputId": "e29d27f2-d3c5-4563-98aa-fb1bcf4ddcec"
      },
      "execution_count": null,
      "outputs": [
        {
          "output_type": "stream",
          "name": "stderr",
          "text": [
            "/usr/local/lib/python3.7/dist-packages/seaborn/distributions.py:2619: FutureWarning: `distplot` is a deprecated function and will be removed in a future version. Please adapt your code to use either `displot` (a figure-level function with similar flexibility) or `histplot` (an axes-level function for histograms).\n",
            "  warnings.warn(msg, FutureWarning)\n",
            "/usr/local/lib/python3.7/dist-packages/seaborn/distributions.py:2619: FutureWarning: `distplot` is a deprecated function and will be removed in a future version. Please adapt your code to use either `displot` (a figure-level function with similar flexibility) or `histplot` (an axes-level function for histograms).\n",
            "  warnings.warn(msg, FutureWarning)\n"
          ]
        },
        {
          "output_type": "execute_result",
          "data": {
            "text/plain": [
              "<matplotlib.legend.Legend at 0x7f68af0dc0d0>"
            ]
          },
          "metadata": {},
          "execution_count": 34
        },
        {
          "output_type": "stream",
          "name": "stderr",
          "text": [
            "/usr/local/lib/python3.7/dist-packages/matplotlib/backends/backend_agg.py:214: RuntimeWarning: Glyph 44284 missing from current font.\n",
            "  font.set_text(s, 0.0, flags=flags)\n",
            "/usr/local/lib/python3.7/dist-packages/matplotlib/backends/backend_agg.py:214: RuntimeWarning: Glyph 51032 missing from current font.\n",
            "  font.set_text(s, 0.0, flags=flags)\n",
            "/usr/local/lib/python3.7/dist-packages/matplotlib/backends/backend_agg.py:214: RuntimeWarning: Glyph 50672 missing from current font.\n",
            "  font.set_text(s, 0.0, flags=flags)\n",
            "/usr/local/lib/python3.7/dist-packages/matplotlib/backends/backend_agg.py:214: RuntimeWarning: Glyph 44288 missing from current font.\n",
            "  font.set_text(s, 0.0, flags=flags)\n",
            "/usr/local/lib/python3.7/dist-packages/matplotlib/backends/backend_agg.py:214: RuntimeWarning: Glyph 46020 missing from current font.\n",
            "  font.set_text(s, 0.0, flags=flags)\n",
            "/usr/local/lib/python3.7/dist-packages/matplotlib/backends/backend_agg.py:183: RuntimeWarning: Glyph 44284 missing from current font.\n",
            "  font.set_text(s, 0, flags=flags)\n",
            "/usr/local/lib/python3.7/dist-packages/matplotlib/backends/backend_agg.py:183: RuntimeWarning: Glyph 51032 missing from current font.\n",
            "  font.set_text(s, 0, flags=flags)\n",
            "/usr/local/lib/python3.7/dist-packages/matplotlib/backends/backend_agg.py:183: RuntimeWarning: Glyph 50672 missing from current font.\n",
            "  font.set_text(s, 0, flags=flags)\n",
            "/usr/local/lib/python3.7/dist-packages/matplotlib/backends/backend_agg.py:183: RuntimeWarning: Glyph 44288 missing from current font.\n",
            "  font.set_text(s, 0, flags=flags)\n",
            "/usr/local/lib/python3.7/dist-packages/matplotlib/backends/backend_agg.py:183: RuntimeWarning: Glyph 46020 missing from current font.\n",
            "  font.set_text(s, 0, flags=flags)\n"
          ]
        },
        {
          "output_type": "display_data",
          "data": {
            "text/plain": [
              "<Figure size 576x360 with 1 Axes>"
            ],
            "image/png": "[encoded data removed]"
          },
          "metadata": {
            "needs_background": "light"
          }
        }
      ]
    },
    {
      "cell_type": "markdown",
      "source": [
        "음성 데이터의 경우 Glucose 수치가 양성 데이터보다 낮은 것을 볼 수 있었으며 100-150사이의 경우 양성과 음성이 고루 분포되어있다."
      ],
      "metadata": {
        "id": "JJQWhZ-GByjI"
      }
    },
    {
      "cell_type": "code",
      "source": [
        "plt.figure(figsize = (8,5))\n",
        "sns.distplot(df['BMI'][df['Outcome'] == 1], bins = 50, color = 'r')\n",
        "sns.distplot(df['BMI'][df['Outcome'] == 0], bins = 50)\n",
        "plt.title('Outcome & BMI의 분포')\n",
        "plt.legend(labels = ['Positive','Negative'], loc = 'upper right')"
      ],
      "metadata": {
        "colab": {
          "base_uri": "https://localhost:8080/",
          "height": 681
        },
        "id": "ebReYpuABhrB",
        "outputId": "f03c32fc-ca9d-4ca8-ae23-d5cab8523219"
      },
      "execution_count": null,
      "outputs": [
        {
          "output_type": "stream",
          "name": "stderr",
          "text": [
            "/usr/local/lib/python3.7/dist-packages/seaborn/distributions.py:2619: FutureWarning: `distplot` is a deprecated function and will be removed in a future version. Please adapt your code to use either `displot` (a figure-level function with similar flexibility) or `histplot` (an axes-level function for histograms).\n",
            "  warnings.warn(msg, FutureWarning)\n",
            "/usr/local/lib/python3.7/dist-packages/seaborn/distributions.py:2619: FutureWarning: `distplot` is a deprecated function and will be removed in a future version. Please adapt your code to use either `displot` (a figure-level function with similar flexibility) or `histplot` (an axes-level function for histograms).\n",
            "  warnings.warn(msg, FutureWarning)\n"
          ]
        },
        {
          "output_type": "execute_result",
          "data": {
            "text/plain": [
              "<matplotlib.legend.Legend at 0x7f68aee34450>"
            ]
          },
          "metadata": {},
          "execution_count": 35
        },
        {
          "output_type": "stream",
          "name": "stderr",
          "text": [
            "/usr/local/lib/python3.7/dist-packages/matplotlib/backends/backend_agg.py:214: RuntimeWarning: Glyph 51032 missing from current font.\n",
            "  font.set_text(s, 0.0, flags=flags)\n",
            "/usr/local/lib/python3.7/dist-packages/matplotlib/backends/backend_agg.py:214: RuntimeWarning: Glyph 48516 missing from current font.\n",
            "  font.set_text(s, 0.0, flags=flags)\n",
            "/usr/local/lib/python3.7/dist-packages/matplotlib/backends/backend_agg.py:214: RuntimeWarning: Glyph 54252 missing from current font.\n",
            "  font.set_text(s, 0.0, flags=flags)\n",
            "/usr/local/lib/python3.7/dist-packages/matplotlib/backends/backend_agg.py:183: RuntimeWarning: Glyph 51032 missing from current font.\n",
            "  font.set_text(s, 0, flags=flags)\n",
            "/usr/local/lib/python3.7/dist-packages/matplotlib/backends/backend_agg.py:183: RuntimeWarning: Glyph 48516 missing from current font.\n",
            "  font.set_text(s, 0, flags=flags)\n",
            "/usr/local/lib/python3.7/dist-packages/matplotlib/backends/backend_agg.py:183: RuntimeWarning: Glyph 54252 missing from current font.\n",
            "  font.set_text(s, 0, flags=flags)\n"
          ]
        },
        {
          "output_type": "display_data",
          "data": {
            "text/plain": [
              "<Figure size 576x360 with 1 Axes>"
            ],
            "image/png": "[encoded data removed]"
          },
          "metadata": {
            "needs_background": "light"
          }
        }
      ]
    },
    {
      "cell_type": "markdown",
      "source": [
        "BMI지수가 30미만인 데이터의 경우 대부분이 음성데이터이며 이는 BMI지수가 높을수록 양성일 확률이 높아진다는 사실을 알 수 있다."
      ],
      "metadata": {
        "id": "F7x2menXE7F7"
      }
    },
    {
      "cell_type": "code",
      "source": [
        "plt.figure(figsize = (8,5))\n",
        "sns.distplot(df['Pregnancies'][df['Outcome'] == 1], bins = 20, color = 'r')\n",
        "sns.distplot(df['Pregnancies'][df['Outcome'] == 0], bins = 20)\n",
        "plt.title('Outcome & Pregnancies의 분포')\n",
        "plt.legend(labels = ['Positive','Negative'], loc = 'upper right')"
      ],
      "metadata": {
        "colab": {
          "base_uri": "https://localhost:8080/",
          "height": 681
        },
        "id": "QdMmYnNJE1Vu",
        "outputId": "572b19ab-4a17-42fd-85a9-4bd49a7edc9f"
      },
      "execution_count": null,
      "outputs": [
        {
          "output_type": "stream",
          "name": "stderr",
          "text": [
            "/usr/local/lib/python3.7/dist-packages/seaborn/distributions.py:2619: FutureWarning: `distplot` is a deprecated function and will be removed in a future version. Please adapt your code to use either `displot` (a figure-level function with similar flexibility) or `histplot` (an axes-level function for histograms).\n",
            "  warnings.warn(msg, FutureWarning)\n",
            "/usr/local/lib/python3.7/dist-packages/seaborn/distributions.py:2619: FutureWarning: `distplot` is a deprecated function and will be removed in a future version. Please adapt your code to use either `displot` (a figure-level function with similar flexibility) or `histplot` (an axes-level function for histograms).\n",
            "  warnings.warn(msg, FutureWarning)\n"
          ]
        },
        {
          "output_type": "execute_result",
          "data": {
            "text/plain": [
              "<matplotlib.legend.Legend at 0x7f68af92b550>"
            ]
          },
          "metadata": {},
          "execution_count": 37
        },
        {
          "output_type": "stream",
          "name": "stderr",
          "text": [
            "/usr/local/lib/python3.7/dist-packages/matplotlib/backends/backend_agg.py:214: RuntimeWarning: Glyph 51032 missing from current font.\n",
            "  font.set_text(s, 0.0, flags=flags)\n",
            "/usr/local/lib/python3.7/dist-packages/matplotlib/backends/backend_agg.py:214: RuntimeWarning: Glyph 48516 missing from current font.\n",
            "  font.set_text(s, 0.0, flags=flags)\n",
            "/usr/local/lib/python3.7/dist-packages/matplotlib/backends/backend_agg.py:214: RuntimeWarning: Glyph 54252 missing from current font.\n",
            "  font.set_text(s, 0.0, flags=flags)\n",
            "/usr/local/lib/python3.7/dist-packages/matplotlib/backends/backend_agg.py:183: RuntimeWarning: Glyph 51032 missing from current font.\n",
            "  font.set_text(s, 0, flags=flags)\n",
            "/usr/local/lib/python3.7/dist-packages/matplotlib/backends/backend_agg.py:183: RuntimeWarning: Glyph 48516 missing from current font.\n",
            "  font.set_text(s, 0, flags=flags)\n",
            "/usr/local/lib/python3.7/dist-packages/matplotlib/backends/backend_agg.py:183: RuntimeWarning: Glyph 54252 missing from current font.\n",
            "  font.set_text(s, 0, flags=flags)\n"
          ]
        },
        {
          "output_type": "display_data",
          "data": {
            "text/plain": [
              "<Figure size 576x360 with 1 Axes>"
            ],
            "image/png": "[encoded data removed]"
          },
          "metadata": {
            "needs_background": "light"
          }
        }
      ]
    },
    {
      "cell_type": "markdown",
      "source": [
        "당뇨와 임신의 횟수의 경우 5번미만의 경우 양성과 음성 데이터가 모두 존재하기 때문에 상관관계가 뚜렷하다고 볼 수 없지만 5번이상의 경우 확연히 양성데이터가 늘어남을 볼 수 있다."
      ],
      "metadata": {
        "id": "IO6tYV_qF-j1"
      }
    },
    {
      "cell_type": "code",
      "source": [
        "plt.figure(figsize = (8,5))\n",
        "sns.distplot(df['Age'][df['Outcome'] == 1], bins = 30, color = 'r')\n",
        "sns.distplot(df['Age'][df['Outcome'] == 0], bins = 30)\n",
        "plt.title('Outcome & Age의 분포')\n",
        "plt.legend(labels = ['Positive','Negative'], loc = 'upper right')"
      ],
      "metadata": {
        "colab": {
          "base_uri": "https://localhost:8080/",
          "height": 681
        },
        "id": "Vfa5HWOAGcs8",
        "outputId": "8cdd7055-5c2e-4c29-896b-9000487f4df3"
      },
      "execution_count": null,
      "outputs": [
        {
          "output_type": "stream",
          "name": "stderr",
          "text": [
            "/usr/local/lib/python3.7/dist-packages/seaborn/distributions.py:2619: FutureWarning: `distplot` is a deprecated function and will be removed in a future version. Please adapt your code to use either `displot` (a figure-level function with similar flexibility) or `histplot` (an axes-level function for histograms).\n",
            "  warnings.warn(msg, FutureWarning)\n",
            "/usr/local/lib/python3.7/dist-packages/seaborn/distributions.py:2619: FutureWarning: `distplot` is a deprecated function and will be removed in a future version. Please adapt your code to use either `displot` (a figure-level function with similar flexibility) or `histplot` (an axes-level function for histograms).\n",
            "  warnings.warn(msg, FutureWarning)\n"
          ]
        },
        {
          "output_type": "execute_result",
          "data": {
            "text/plain": [
              "<matplotlib.legend.Legend at 0x7f68ae4b9a10>"
            ]
          },
          "metadata": {},
          "execution_count": 38
        },
        {
          "output_type": "stream",
          "name": "stderr",
          "text": [
            "/usr/local/lib/python3.7/dist-packages/matplotlib/backends/backend_agg.py:214: RuntimeWarning: Glyph 51032 missing from current font.\n",
            "  font.set_text(s, 0.0, flags=flags)\n",
            "/usr/local/lib/python3.7/dist-packages/matplotlib/backends/backend_agg.py:214: RuntimeWarning: Glyph 48516 missing from current font.\n",
            "  font.set_text(s, 0.0, flags=flags)\n",
            "/usr/local/lib/python3.7/dist-packages/matplotlib/backends/backend_agg.py:214: RuntimeWarning: Glyph 54252 missing from current font.\n",
            "  font.set_text(s, 0.0, flags=flags)\n",
            "/usr/local/lib/python3.7/dist-packages/matplotlib/backends/backend_agg.py:183: RuntimeWarning: Glyph 51032 missing from current font.\n",
            "  font.set_text(s, 0, flags=flags)\n",
            "/usr/local/lib/python3.7/dist-packages/matplotlib/backends/backend_agg.py:183: RuntimeWarning: Glyph 48516 missing from current font.\n",
            "  font.set_text(s, 0, flags=flags)\n",
            "/usr/local/lib/python3.7/dist-packages/matplotlib/backends/backend_agg.py:183: RuntimeWarning: Glyph 54252 missing from current font.\n",
            "  font.set_text(s, 0, flags=flags)\n"
          ]
        },
        {
          "output_type": "display_data",
          "data": {
            "text/plain": [
              "<Figure size 576x360 with 1 Axes>"
            ],
            "image/png": "[encoded data removed]"
          },
          "metadata": {
            "needs_background": "light"
          }
        }
      ]
    },
    {
      "cell_type": "markdown",
      "source": [
        "양성 데이터가 30대 이후에 많이 분포되어있는 것을 보아 30대 이후에 당뇨 발병률이 상승한다는 사실을 알 수 있다."
      ],
      "metadata": {
        "id": "_Kq0qlH-GyQs"
      }
    },
    {
      "cell_type": "markdown",
      "source": [
        "##모델링"
      ],
      "metadata": {
        "id": "1gS2HKCuIp8b"
      }
    },
    {
      "cell_type": "code",
      "source": [
        "#그래프 설정\n",
        "def plot_roc_curve(fpr, tpr, label = None):\n",
        "    plt.plot(fpr, tpr, linewidth = 3, label= label)\n",
        "    plt.plot([0, 1], [0, 1], \"r--\")\n",
        "    plt.xlabel(\"False Positive Rate\", fontname = \"monospace\", fontsize = 15 )\n",
        "    plt.ylabel(\"True Positive Rate(Recall)\", fontname = \"monospace\", fontsize = 15 )\n",
        "    plt.title(\"ROC Curve\", fontname = \"monospace\", fontsize = 17)\n",
        "    plt.axis([0, 1, 0, 1])\n",
        "    plt.show()"
      ],
      "metadata": {
        "id": "puHTADuBJON7"
      },
      "execution_count": null,
      "outputs": []
    },
    {
      "cell_type": "markdown",
      "source": [
        "###4.1 모델 훈련"
      ],
      "metadata": {
        "id": "Tco_ttLjIxDX"
      }
    },
    {
      "cell_type": "markdown",
      "source": [
        "4.1.1 LogisticRegression"
      ],
      "metadata": {
        "id": "FrOjOUoaLHCP"
      }
    },
    {
      "cell_type": "code",
      "source": [
        "#LogisticRegression\n",
        "from sklearn.linear_model import LogisticRegression\n",
        "from sklearn.model_selection import cross_val_predict\n",
        "from sklearn.metrics import roc_curve\n",
        "\n",
        "\n",
        "from sklearn.metrics import accuracy_score, precision_score, recall_score, roc_auc_score,f1_score, confusion_matrix,\\\n",
        "roc_curve\n",
        "from sklearn.model_selection import cross_val_predict\n",
        "\n",
        "\n",
        "\n",
        "log_reg_clf=LogisticRegression(random_state=42 , max_iter=500)\n",
        "log_reg_pred = cross_val_predict(log_reg_clf, x_train, y_train, cv = 5)\n"
      ],
      "metadata": {
        "id": "IPC_neMBGtye"
      },
      "execution_count": null,
      "outputs": []
    },
    {
      "cell_type": "code",
      "source": [
        "log_reg_scores = cross_val_predict(log_reg_clf, x_train, y_train, cv = 3, method = \"decision_function\")\n",
        "log_reg_fpr, log_reg_tpr,_ = roc_curve(y_train, log_reg_scores)\n",
        "plot_roc_curve(log_reg_fpr, log_reg_tpr)"
      ],
      "metadata": {
        "colab": {
          "base_uri": "https://localhost:8080/",
          "height": 304
        },
        "id": "P_oHyaGqJcv-",
        "outputId": "cbe75848-7fab-499e-e7f6-82cac7c8b714"
      },
      "execution_count": null,
      "outputs": [
        {
          "output_type": "display_data",
          "data": {
            "text/plain": [
              "<Figure size 432x288 with 1 Axes>"
            ],
            "image/png": "[encoded data removed]"
          },
          "metadata": {
            "needs_background": "light"
          }
        }
      ]
    },
    {
      "cell_type": "code",
      "source": [
        "log_reg_auc = roc_auc_score(y_train, log_reg_scores)\n",
        "log_reg_auc"
      ],
      "metadata": {
        "colab": {
          "base_uri": "https://localhost:8080/"
        },
        "id": "2B6M4EHBJvvw",
        "outputId": "bc5a5551-fcdf-4fe5-e253-fc4edb990d53"
      },
      "execution_count": null,
      "outputs": [
        {
          "output_type": "execute_result",
          "data": {
            "text/plain": [
              "0.870591417449696"
            ]
          },
          "metadata": {},
          "execution_count": 55
        }
      ]
    },
    {
      "cell_type": "markdown",
      "source": [
        "그리드 서치"
      ],
      "metadata": {
        "id": "0lqJ_9CsMO8y"
      }
    },
    {
      "cell_type": "code",
      "source": [
        "log_reg_param_grid = [\n",
        "    {\n",
        "        \"C\": [0.25, 0.5, 1, 2,3]\n",
        "    }\n",
        "]"
      ],
      "metadata": {
        "id": "1hCIGLb8Kq6-"
      },
      "execution_count": null,
      "outputs": []
    },
    {
      "cell_type": "code",
      "source": [
        "from sklearn.model_selection import GridSearchCV\n",
        "log_reg_grid_search = GridSearchCV(log_reg_clf, log_reg_param_grid,\n",
        "                                   cv = 3, scoring = \"roc_auc\",\n",
        "                                   return_train_score = True)\n",
        "log_reg_grid_search.fit(x_train, y_train)"
      ],
      "metadata": {
        "colab": {
          "base_uri": "https://localhost:8080/"
        },
        "id": "7IRHkteuKtiV",
        "outputId": "99596ebd-97b4-4d89-8cfb-179f3940f20e"
      },
      "execution_count": null,
      "outputs": [
        {
          "output_type": "execute_result",
          "data": {
            "text/plain": [
              "GridSearchCV(cv=3, estimator=LogisticRegression(max_iter=500, random_state=42),\n",
              "             param_grid=[{'C': [0.25, 0.5, 1, 2, 3]}], return_train_score=True,\n",
              "             scoring='roc_auc')"
            ]
          },
          "metadata": {},
          "execution_count": 75
        }
      ]
    },
    {
      "cell_type": "code",
      "source": [
        "log_reg_grid_search.best_estimator_"
      ],
      "metadata": {
        "colab": {
          "base_uri": "https://localhost:8080/"
        },
        "id": "7pWvwAjMKwZC",
        "outputId": "a1365722-2561-4cb2-e5fd-67206e0999b0"
      },
      "execution_count": null,
      "outputs": [
        {
          "output_type": "execute_result",
          "data": {
            "text/plain": [
              "LogisticRegression(C=1, max_iter=500, random_state=42)"
            ]
          },
          "metadata": {},
          "execution_count": 76
        }
      ]
    },
    {
      "cell_type": "code",
      "source": [
        "log_reg_grid_search.best_score_"
      ],
      "metadata": {
        "colab": {
          "base_uri": "https://localhost:8080/"
        },
        "id": "GB3xp3MGK6HP",
        "outputId": "613ff26a-a690-43b9-e0ae-e46c0f47da10"
      },
      "execution_count": null,
      "outputs": [
        {
          "output_type": "execute_result",
          "data": {
            "text/plain": [
              "0.8716731752223309"
            ]
          },
          "metadata": {},
          "execution_count": 77
        }
      ]
    },
    {
      "cell_type": "markdown",
      "source": [
        "4.1.2 svc"
      ],
      "metadata": {
        "id": "FLnEW0HEMXmY"
      }
    },
    {
      "cell_type": "code",
      "source": [
        "from sklearn.svm import SVC\n",
        "svm_clf = SVC()\n",
        "svm_clf.fit(x_train,y_train)\n"
      ],
      "metadata": {
        "colab": {
          "base_uri": "https://localhost:8080/"
        },
        "id": "qkQUVR45MXDh",
        "outputId": "306667c4-88ca-41bc-fe4a-68231738cb76"
      },
      "execution_count": null,
      "outputs": [
        {
          "output_type": "execute_result",
          "data": {
            "text/plain": [
              "SVC()"
            ]
          },
          "metadata": {},
          "execution_count": 64
        }
      ]
    },
    {
      "cell_type": "code",
      "source": [
        "svm_clf = SVC(random_state = 42)\n",
        "svm_clf.fit(x_train,y_train)"
      ],
      "metadata": {
        "colab": {
          "base_uri": "https://localhost:8080/"
        },
        "id": "0rLnMIvvMklQ",
        "outputId": "62cb82d3-f0d4-4574-bbac-ba85558540ff"
      },
      "execution_count": null,
      "outputs": [
        {
          "output_type": "execute_result",
          "data": {
            "text/plain": [
              "SVC(random_state=42)"
            ]
          },
          "metadata": {},
          "execution_count": 65
        }
      ]
    },
    {
      "cell_type": "code",
      "source": [
        "from sklearn.model_selection import cross_val_score\n",
        "cross_val_score(svm_clf, x_train, y_train, cv = 5, scoring='accuracy')"
      ],
      "metadata": {
        "colab": {
          "base_uri": "https://localhost:8080/"
        },
        "id": "e1X3_3VAM5XQ",
        "outputId": "dca928a8-fcc9-45b0-b819-e848fff05bee"
      },
      "execution_count": null,
      "outputs": [
        {
          "output_type": "execute_result",
          "data": {
            "text/plain": [
              "array([0.8699187 , 0.81300813, 0.78861789, 0.8699187 , 0.87704918])"
            ]
          },
          "metadata": {},
          "execution_count": 68
        }
      ]
    },
    {
      "cell_type": "code",
      "source": [
        "from sklearn.model_selection import cross_val_score\n",
        "cross_val_score(svm_clf, x_train, y_train, cv = 5, scoring='roc_auc')"
      ],
      "metadata": {
        "colab": {
          "base_uri": "https://localhost:8080/"
        },
        "id": "h50B5uLMMn0w",
        "outputId": "48db80a4-a06d-4a40-ff61-c07bfffdaeee"
      },
      "execution_count": null,
      "outputs": [
        {
          "output_type": "execute_result",
          "data": {
            "text/plain": [
              "array([0.94476744, 0.89564962, 0.7989418 , 0.9271017 , 0.9202381 ])"
            ]
          },
          "metadata": {},
          "execution_count": 67
        }
      ]
    },
    {
      "cell_type": "code",
      "source": [
        "svm_clf_scores = cross_val_predict(svm_clf, x_train, y_train, cv = 5, method = \"decision_function\")\n",
        "svm_fpr, svm_tpr, _ = roc_curve(y_train, svm_clf_scores)\n",
        "plot_roc_curve(svm_fpr, svm_tpr)"
      ],
      "metadata": {
        "colab": {
          "base_uri": "https://localhost:8080/",
          "height": 304
        },
        "id": "vW-08Kw_NLcG",
        "outputId": "96be2b0d-905b-4eb6-8f63-c8999ae69df4"
      },
      "execution_count": null,
      "outputs": [
        {
          "output_type": "display_data",
          "data": {
            "text/plain": [
              "<Figure size 432x288 with 1 Axes>"
            ],
            "image/png": "[encoded data removed]"
          },
          "metadata": {
            "needs_background": "light"
          }
        }
      ]
    },
    {
      "cell_type": "code",
      "source": [
        "svm_param_grid = {\n",
        "    \"kernel\": [\"rbf\", \"linear\"],\n",
        "    \"C\":[1, 5, 10, 20]\n",
        "}"
      ],
      "metadata": {
        "id": "tvuuMY4TNQtn"
      },
      "execution_count": null,
      "outputs": []
    },
    {
      "cell_type": "markdown",
      "source": [
        "그리드서치"
      ],
      "metadata": {
        "id": "ma_qd50uNWmq"
      }
    },
    {
      "cell_type": "code",
      "source": [
        "svm_grid_search = GridSearchCV(svm_clf, svm_param_grid, cv = 5,\n",
        "                               scoring = \"roc_auc\",\n",
        "                               return_train_score = True)\n",
        "svm_grid_search.fit(x_train, y_train)"
      ],
      "metadata": {
        "colab": {
          "base_uri": "https://localhost:8080/"
        },
        "id": "OOLGh3WmNT21",
        "outputId": "3ed5a119-db7e-46d1-a521-a269bc025855"
      },
      "execution_count": null,
      "outputs": [
        {
          "output_type": "execute_result",
          "data": {
            "text/plain": [
              "GridSearchCV(cv=5, estimator=SVC(random_state=42),\n",
              "             param_grid={'C': [1, 5, 10, 20], 'kernel': ['rbf', 'linear']},\n",
              "             return_train_score=True, scoring='roc_auc')"
            ]
          },
          "metadata": {},
          "execution_count": 71
        }
      ]
    },
    {
      "cell_type": "code",
      "source": [
        "svm_grid_search.best_estimator_"
      ],
      "metadata": {
        "colab": {
          "base_uri": "https://localhost:8080/"
        },
        "id": "TTCKui1yN3mS",
        "outputId": "4e2b156d-a897-4e77-ccb5-f3ab88cab82c"
      },
      "execution_count": null,
      "outputs": [
        {
          "output_type": "execute_result",
          "data": {
            "text/plain": [
              "SVC(C=1, random_state=42)"
            ]
          },
          "metadata": {},
          "execution_count": 78
        }
      ]
    },
    {
      "cell_type": "code",
      "source": [
        "svm_grid_search.best_score_"
      ],
      "metadata": {
        "colab": {
          "base_uri": "https://localhost:8080/"
        },
        "id": "__FcxSM1N86c",
        "outputId": "3f2ab3a8-7a1f-4ab1-a579-2ca3e6fc993d"
      },
      "execution_count": null,
      "outputs": [
        {
          "output_type": "execute_result",
          "data": {
            "text/plain": [
              "0.8973397317583365"
            ]
          },
          "metadata": {},
          "execution_count": 79
        }
      ]
    },
    {
      "cell_type": "markdown",
      "source": [
        "4.1.3 sgd"
      ],
      "metadata": {
        "id": "ZOUAPq0LOAmK"
      }
    },
    {
      "cell_type": "code",
      "source": [
        "from sklearn.linear_model import SGDClassifier\n",
        "sgd_clf = SGDClassifier(random_state = 42)\n",
        "sgd_clf_pred = cross_val_predict(sgd_clf, x_train, y_train, cv = 5)"
      ],
      "metadata": {
        "id": "wWkr9apyOEQx"
      },
      "execution_count": null,
      "outputs": []
    },
    {
      "cell_type": "code",
      "source": [
        "sgd_clf_scores = cross_val_predict(sgd_clf, x_train, y_train, cv = 5, method = \"decision_function\")\n",
        "sgd_clf_fpr, sgd_clf_tpr, _ = roc_curve(y_train, sgd_clf_scores)\n",
        "plot_roc_curve(sgd_clf_fpr, sgd_clf_tpr)"
      ],
      "metadata": {
        "colab": {
          "base_uri": "https://localhost:8080/",
          "height": 304
        },
        "id": "tsHxqiKaOHXn",
        "outputId": "e138ac75-3531-4964-cf42-f8eb6431fc8f"
      },
      "execution_count": null,
      "outputs": [
        {
          "output_type": "display_data",
          "data": {
            "text/plain": [
              "<Figure size 432x288 with 1 Axes>"
            ],
            "image/png": "[encoded data removed]"
          },
          "metadata": {
            "needs_background": "light"
          }
        }
      ]
    },
    {
      "cell_type": "code",
      "source": [
        "sgd_auc = roc_auc_score(y_train, sgd_clf_scores)\n",
        "sgd_auc"
      ],
      "metadata": {
        "colab": {
          "base_uri": "https://localhost:8080/"
        },
        "id": "R3wjXsVAOTY6",
        "outputId": "f17e453b-ae37-4d14-e1fa-abccd8d32721"
      },
      "execution_count": null,
      "outputs": [
        {
          "output_type": "execute_result",
          "data": {
            "text/plain": [
              "0.6851692872179035"
            ]
          },
          "metadata": {},
          "execution_count": 82
        }
      ]
    },
    {
      "cell_type": "markdown",
      "source": [
        "4.1.4 DecisionTreeClassifier"
      ],
      "metadata": {
        "id": "kXLhHT4GOZ1F"
      }
    },
    {
      "cell_type": "code",
      "source": [
        "from sklearn.tree import DecisionTreeClassifier\n",
        "dt_clf = DecisionTreeClassifier(random_state = 42)\n"
      ],
      "metadata": {
        "id": "SHALYPUbOfNH"
      },
      "execution_count": null,
      "outputs": []
    },
    {
      "cell_type": "markdown",
      "source": [
        "그리드서치"
      ],
      "metadata": {
        "id": "8YFishYePmSE"
      }
    },
    {
      "cell_type": "code",
      "source": [
        "paramaters = {'criterion':['gini','entropy'],\n",
        "              'splitter' : ['best', 'random'],\n",
        "              'min_samples_split':[1,2,5,10], \n",
        "              'max_depth':[None,2], \n",
        "              'min_samples_leaf':[10,15,20,30,50], \n",
        "              'max_features':[None,'sqrt','log2']}"
      ],
      "metadata": {
        "id": "_dOLBkRQQBVx"
      },
      "execution_count": null,
      "outputs": []
    },
    {
      "cell_type": "code",
      "source": [
        "dt_grid_search = GridSearchCV(dt_clf, paramaters, cv = 3, \n",
        "                    scoring = \"roc_auc\", return_train_score = True)\n",
        "dt_grid_search.fit(x_train, y_train)"
      ],
      "metadata": {
        "colab": {
          "base_uri": "https://localhost:8080/"
        },
        "id": "K35yuzmRQI_p",
        "outputId": "98bb9e75-e6e7-48ba-e35a-b0a020a5ab0d"
      },
      "execution_count": null,
      "outputs": [
        {
          "output_type": "stream",
          "name": "stderr",
          "text": [
            "/usr/local/lib/python3.7/dist-packages/sklearn/model_selection/_validation.py:372: FitFailedWarning: \n",
            "360 fits failed out of a total of 1440.\n",
            "The score on these train-test partitions for these parameters will be set to nan.\n",
            "If these failures are not expected, you can try to debug them by setting error_score='raise'.\n",
            "\n",
            "Below are more details about the failures:\n",
            "--------------------------------------------------------------------------------\n",
            "360 fits failed with the following error:\n",
            "Traceback (most recent call last):\n",
            "  File \"/usr/local/lib/python3.7/dist-packages/sklearn/model_selection/_validation.py\", line 680, in _fit_and_score\n",
            "    estimator.fit(X_train, y_train, **fit_params)\n",
            "  File \"/usr/local/lib/python3.7/dist-packages/sklearn/tree/_classes.py\", line 942, in fit\n",
            "    X_idx_sorted=X_idx_sorted,\n",
            "  File \"/usr/local/lib/python3.7/dist-packages/sklearn/tree/_classes.py\", line 254, in fit\n",
            "    % self.min_samples_split\n",
            "ValueError: min_samples_split must be an integer greater than 1 or a float in (0.0, 1.0]; got the integer 1\n",
            "\n",
            "  warnings.warn(some_fits_failed_message, FitFailedWarning)\n",
            "/usr/local/lib/python3.7/dist-packages/sklearn/model_selection/_search.py:972: UserWarning: One or more of the test scores are non-finite: [       nan        nan 0.92193891 0.82543774 0.92193891 0.82543774\n",
            " 0.92193891 0.82543774        nan        nan 0.92992915 0.82262153\n",
            " 0.92992915 0.82262153 0.92992915 0.82262153        nan        nan\n",
            " 0.92423119 0.776941   0.92423119 0.776941   0.92423119 0.776941\n",
            "        nan        nan 0.91955513 0.84574324 0.91955513 0.84574324\n",
            " 0.91955513 0.84574324        nan        nan 0.92208185 0.68424345\n",
            " 0.92208185 0.68424345 0.92208185 0.68424345        nan        nan\n",
            " 0.90974663 0.80154161 0.90974663 0.80154161 0.90974663 0.80154161\n",
            "        nan        nan 0.90377428 0.59216326 0.90377428 0.59216326\n",
            " 0.90377428 0.59216326        nan        nan 0.9152671  0.57704519\n",
            " 0.9152671  0.57704519 0.9152671  0.57704519        nan        nan\n",
            " 0.89846889 0.55735491 0.89846889 0.55735491 0.89846889 0.55735491\n",
            "        nan        nan 0.89907795 0.55735491 0.89907795 0.55735491\n",
            " 0.89907795 0.55735491        nan        nan 0.90900086 0.85204104\n",
            " 0.90900086 0.85204104 0.90900086 0.85204104        nan        nan\n",
            " 0.91479393 0.85968471 0.91479393 0.85968471 0.91479393 0.85968471\n",
            "        nan        nan 0.91875703 0.83664953 0.91875703 0.83664953\n",
            " 0.91875703 0.83664953        nan        nan 0.91387393 0.74924239\n",
            " 0.91387393 0.74924239 0.91387393 0.74924239        nan        nan\n",
            " 0.91459745 0.74976968 0.91459745 0.74976968 0.91459745 0.74976968\n",
            "        nan        nan 0.89594041 0.69643727 0.89594041 0.69643727\n",
            " 0.89594041 0.69643727        nan        nan 0.89594041 0.69643727\n",
            " 0.89594041 0.69643727 0.89594041 0.69643727        nan        nan\n",
            " 0.90729843 0.66472961 0.90729843 0.66472961 0.90729843 0.66472961\n",
            "        nan        nan 0.90729843 0.67763966 0.90729843 0.67763966\n",
            " 0.90729843 0.67763966        nan        nan 0.91510871 0.68757915\n",
            " 0.91510871 0.68757915 0.91510871 0.68757915        nan        nan\n",
            " 0.87925756 0.58203234 0.87925756 0.58203234 0.87925756 0.58203234\n",
            "        nan        nan 0.87925756 0.57704519 0.87925756 0.57704519\n",
            " 0.87925756 0.57704519        nan        nan 0.87876373 0.57704519\n",
            " 0.87876373 0.57704519 0.87876373 0.57704519        nan        nan\n",
            " 0.88246981 0.55735491 0.88246981 0.55735491 0.88246981 0.55735491\n",
            "        nan        nan 0.88316692 0.55735491 0.88316692 0.55735491\n",
            " 0.88316692 0.55735491        nan        nan 0.90729843 0.75008372\n",
            " 0.90729843 0.75008372 0.90729843 0.75008372        nan        nan\n",
            " 0.90729843 0.75008372 0.90729843 0.75008372 0.90729843 0.75008372\n",
            "        nan        nan 0.90729843 0.7480226  0.90729843 0.7480226\n",
            " 0.90729843 0.7480226         nan        nan 0.90729843 0.7480226\n",
            " 0.90729843 0.7480226  0.90729843 0.7480226         nan        nan\n",
            " 0.91510871 0.7480226  0.91510871 0.7480226  0.91510871 0.7480226\n",
            "        nan        nan 0.90555756 0.83619612 0.90555756 0.83619612\n",
            " 0.90555756 0.83619612        nan        nan 0.91749713 0.82997603\n",
            " 0.91749713 0.82997603 0.91749713 0.82997603        nan        nan\n",
            " 0.91060508 0.82378403 0.91060508 0.82378403 0.91060508 0.82378403\n",
            "        nan        nan 0.91227313 0.84574324 0.91227313 0.84574324\n",
            " 0.91227313 0.84574324        nan        nan 0.90946335 0.68424345\n",
            " 0.90946335 0.68424345 0.90946335 0.68424345        nan        nan\n",
            " 0.90445953 0.80154161 0.90445953 0.80154161 0.90445953 0.80154161\n",
            "        nan        nan 0.91664478 0.59216326 0.91664478 0.59216326\n",
            " 0.91664478 0.59216326        nan        nan 0.91156054 0.57704519\n",
            " 0.91156054 0.57704519 0.91156054 0.57704519        nan        nan\n",
            " 0.90570349 0.55735491 0.90570349 0.55735491 0.90570349 0.55735491\n",
            "        nan        nan 0.89998338 0.55735491 0.89998338 0.55735491\n",
            " 0.89998338 0.55735491        nan        nan 0.89159344 0.85272424\n",
            " 0.89159344 0.85272424 0.89159344 0.85272424        nan        nan\n",
            " 0.91750416 0.85968471 0.91750416 0.85968471 0.91750416 0.85968471\n",
            "        nan        nan 0.91634538 0.83664953 0.91634538 0.83664953\n",
            " 0.91634538 0.83664953        nan        nan 0.91134297 0.74924239\n",
            " 0.91134297 0.74924239 0.91134297 0.74924239        nan        nan\n",
            " 0.90322849 0.74976968 0.90322849 0.74976968 0.90322849 0.74976968\n",
            "        nan        nan 0.89248918 0.69643727 0.89248918 0.69643727\n",
            " 0.89248918 0.69643727        nan        nan 0.89248918 0.69643727\n",
            " 0.89248918 0.69643727 0.89248918 0.69643727        nan        nan\n",
            " 0.89248918 0.66472961 0.89248918 0.66472961 0.89248918 0.66472961\n",
            "        nan        nan 0.89248918 0.67763966 0.89248918 0.67763966\n",
            " 0.89248918 0.67763966        nan        nan 0.89829915 0.68757915\n",
            " 0.89829915 0.68757915 0.89829915 0.68757915        nan        nan\n",
            " 0.87023559 0.58203234 0.87023559 0.58203234 0.87023559 0.58203234\n",
            "        nan        nan 0.87023559 0.57704519 0.87023559 0.57704519\n",
            " 0.87023559 0.57704519        nan        nan 0.86974176 0.57704519\n",
            " 0.86974176 0.57704519 0.86974176 0.57704519        nan        nan\n",
            " 0.8737982  0.55735491 0.8737982  0.55735491 0.8737982  0.55735491\n",
            "        nan        nan 0.87903676 0.55735491 0.87903676 0.55735491\n",
            " 0.87903676 0.55735491        nan        nan 0.8827549  0.75008372\n",
            " 0.8827549  0.75008372 0.8827549  0.75008372        nan        nan\n",
            " 0.88829861 0.75008372 0.88829861 0.75008372 0.88829861 0.75008372\n",
            "        nan        nan 0.89282953 0.7480226  0.89282953 0.7480226\n",
            " 0.89282953 0.7480226         nan        nan 0.89282953 0.7480226\n",
            " 0.89282953 0.7480226  0.89282953 0.7480226         nan        nan\n",
            " 0.88974008 0.7480226  0.88974008 0.7480226  0.88974008 0.7480226 ]\n",
            "  category=UserWarning,\n",
            "/usr/local/lib/python3.7/dist-packages/sklearn/model_selection/_search.py:972: UserWarning: One or more of the train scores are non-finite: [       nan        nan 0.97780038 0.88921812 0.97780038 0.88921812\n",
            " 0.97780038 0.88921812        nan        nan 0.96738163 0.83253482\n",
            " 0.96738163 0.83253482 0.96738163 0.83253482        nan        nan\n",
            " 0.96086447 0.81607901 0.96086447 0.81607901 0.96086447 0.81607901\n",
            "        nan        nan 0.94988795 0.85361909 0.94988795 0.85361909\n",
            " 0.94988795 0.85361909        nan        nan 0.93520189 0.73330035\n",
            " 0.93520189 0.73330035 0.93520189 0.73330035        nan        nan\n",
            " 0.9690166  0.8165992  0.9690166  0.8165992  0.9690166  0.8165992\n",
            "        nan        nan 0.95858282 0.58951567 0.95858282 0.58951567\n",
            " 0.95858282 0.58951567        nan        nan 0.94915564 0.58067339\n",
            " 0.94915564 0.58067339 0.94915564 0.58067339        nan        nan\n",
            " 0.93169363 0.56683024 0.93169363 0.56683024 0.93169363 0.56683024\n",
            "        nan        nan 0.90804223 0.56683024 0.90804223 0.56683024\n",
            " 0.90804223 0.56683024        nan        nan 0.97190896 0.86578249\n",
            " 0.97190896 0.86578249 0.97190896 0.86578249        nan        nan\n",
            " 0.96063549 0.86862642 0.96063549 0.86862642 0.96063549 0.86862642\n",
            "        nan        nan 0.94893105 0.84554484 0.94893105 0.84554484\n",
            " 0.94893105 0.84554484        nan        nan 0.94054807 0.75807721\n",
            " 0.94054807 0.75807721 0.94054807 0.75807721        nan        nan\n",
            " 0.93170598 0.76026733 0.93170598 0.76026733 0.93170598 0.76026733\n",
            "        nan        nan 0.91963705 0.71791142 0.91963705 0.71791142\n",
            " 0.91963705 0.71791142        nan        nan 0.91963705 0.71791142\n",
            " 0.91963705 0.71791142 0.91963705 0.71791142        nan        nan\n",
            " 0.92382268 0.69519058 0.92382268 0.69519058 0.92382268 0.69519058\n",
            "        nan        nan 0.92382268 0.69616973 0.92382268 0.69616973\n",
            " 0.92382268 0.69616973        nan        nan 0.92409442 0.72393049\n",
            " 0.92409442 0.72393049 0.92409442 0.72393049        nan        nan\n",
            " 0.89824592 0.58783277 0.89824592 0.58783277 0.89824592 0.58783277\n",
            "        nan        nan 0.89824592 0.58067339 0.89824592 0.58067339\n",
            " 0.89824592 0.58067339        nan        nan 0.89764608 0.58067339\n",
            " 0.89764608 0.58067339 0.89764608 0.58067339        nan        nan\n",
            " 0.89777374 0.56683024 0.89777374 0.56683024 0.89777374 0.56683024\n",
            "        nan        nan 0.89752659 0.56683024 0.89752659 0.56683024\n",
            " 0.89752659 0.56683024        nan        nan 0.92382268 0.74907583\n",
            " 0.92382268 0.74907583 0.92382268 0.74907583        nan        nan\n",
            " 0.92382268 0.74907583 0.92382268 0.74907583 0.92382268 0.74907583\n",
            "        nan        nan 0.92382268 0.74870672 0.92382268 0.74870672\n",
            " 0.92382268 0.74870672        nan        nan 0.92382268 0.74870672\n",
            " 0.92382268 0.74870672 0.92382268 0.74870672        nan        nan\n",
            " 0.92409442 0.74870672 0.92409442 0.74870672 0.92409442 0.74870672\n",
            "        nan        nan 0.9738916  0.89348755 0.9738916  0.89348755\n",
            " 0.9738916  0.89348755        nan        nan 0.96527752 0.83205407\n",
            " 0.96527752 0.83205407 0.96527752 0.83205407        nan        nan\n",
            " 0.95633204 0.84007693 0.95633204 0.84007693 0.95633204 0.84007693\n",
            "        nan        nan 0.94288059 0.85361909 0.94288059 0.85361909\n",
            " 0.94288059 0.85361909        nan        nan 0.93128819 0.73330035\n",
            " 0.93128819 0.73330035 0.93128819 0.73330035        nan        nan\n",
            " 0.97009363 0.8165992  0.97009363 0.8165992  0.97009363 0.8165992\n",
            "        nan        nan 0.96211765 0.58951567 0.96211765 0.58951567\n",
            " 0.96211765 0.58951567        nan        nan 0.94948759 0.58067339\n",
            " 0.94948759 0.58067339 0.94948759 0.58067339        nan        nan\n",
            " 0.9411839  0.56683024 0.9411839  0.56683024 0.9411839  0.56683024\n",
            "        nan        nan 0.91701498 0.56683024 0.91701498 0.56683024\n",
            " 0.91701498 0.56683024        nan        nan 0.96783042 0.86683135\n",
            " 0.96783042 0.86683135 0.96783042 0.86683135        nan        nan\n",
            " 0.95763786 0.86862642 0.95763786 0.86862642 0.95763786 0.86862642\n",
            "        nan        nan 0.95700066 0.84554484 0.95700066 0.84554484\n",
            " 0.95700066 0.84554484        nan        nan 0.93835646 0.75807721\n",
            " 0.93835646 0.75807721 0.93835646 0.75807721        nan        nan\n",
            " 0.92462244 0.76026733 0.92462244 0.76026733 0.92462244 0.76026733\n",
            "        nan        nan 0.92209514 0.71791142 0.92209514 0.71791142\n",
            " 0.92209514 0.71791142        nan        nan 0.92209514 0.71791142\n",
            " 0.92209514 0.71791142 0.92209514 0.71791142        nan        nan\n",
            " 0.92209514 0.69519058 0.92209514 0.69519058 0.92209514 0.69519058\n",
            "        nan        nan 0.92209514 0.69616973 0.92209514 0.69616973\n",
            " 0.92209514 0.69616973        nan        nan 0.92182954 0.72393049\n",
            " 0.92182954 0.72393049 0.92182954 0.72393049        nan        nan\n",
            " 0.89672868 0.58783277 0.89672868 0.58783277 0.89672868 0.58783277\n",
            "        nan        nan 0.89672868 0.58067339 0.89672868 0.58067339\n",
            " 0.89672868 0.58067339        nan        nan 0.89612885 0.58067339\n",
            " 0.89612885 0.58067339 0.89612885 0.58067339        nan        nan\n",
            " 0.89633173 0.56683024 0.89633173 0.56683024 0.89633173 0.56683024\n",
            "        nan        nan 0.89890928 0.56683024 0.89890928 0.56683024\n",
            " 0.89890928 0.56683024        nan        nan 0.90628948 0.74907583\n",
            " 0.90628948 0.74907583 0.90628948 0.74907583        nan        nan\n",
            " 0.91075836 0.74907583 0.91075836 0.74907583 0.91075836 0.74907583\n",
            "        nan        nan 0.9117822  0.74870672 0.9117822  0.74870672\n",
            " 0.9117822  0.74870672        nan        nan 0.9117822  0.74870672\n",
            " 0.9117822  0.74870672 0.9117822  0.74870672        nan        nan\n",
            " 0.91133832 0.74870672 0.91133832 0.74870672 0.91133832 0.74870672]\n",
            "  category=UserWarning,\n"
          ]
        },
        {
          "output_type": "execute_result",
          "data": {
            "text/plain": [
              "GridSearchCV(cv=3, estimator=DecisionTreeClassifier(random_state=42),\n",
              "             param_grid={'criterion': ['gini', 'entropy'],\n",
              "                         'max_depth': [None, 2],\n",
              "                         'max_features': [None, 'sqrt', 'log2'],\n",
              "                         'min_samples_leaf': [10, 15, 20, 30, 50],\n",
              "                         'min_samples_split': [1, 2, 5, 10],\n",
              "                         'splitter': ['best', 'random']},\n",
              "             return_train_score=True, scoring='roc_auc')"
            ]
          },
          "metadata": {},
          "execution_count": 104
        }
      ]
    },
    {
      "cell_type": "code",
      "source": [
        "print('final params', dt_grid_search.best_params_)\n"
      ],
      "metadata": {
        "colab": {
          "base_uri": "https://localhost:8080/"
        },
        "id": "2ZasjoBHQhyt",
        "outputId": "2d67e33e-c491-45d3-d763-4b3b522859b5"
      },
      "execution_count": null,
      "outputs": [
        {
          "output_type": "stream",
          "name": "stdout",
          "text": [
            "final params {'criterion': 'gini', 'max_depth': None, 'max_features': None, 'min_samples_leaf': 15, 'min_samples_split': 2, 'splitter': 'best'}\n"
          ]
        }
      ]
    },
    {
      "cell_type": "code",
      "source": [
        "print('best_score', dt_grid_search.best_score_)"
      ],
      "metadata": {
        "colab": {
          "base_uri": "https://localhost:8080/"
        },
        "id": "1NoDj0y4TgM9",
        "outputId": "f0f82d7f-3956-45c9-b489-4689a1da1807"
      },
      "execution_count": null,
      "outputs": [
        {
          "output_type": "stream",
          "name": "stdout",
          "text": [
            "best_score 0.9299291473921844\n"
          ]
        }
      ]
    },
    {
      "cell_type": "markdown",
      "source": [
        "4.1.5 랜덤 포레스트"
      ],
      "metadata": {
        "id": "Mjq3uMvMTUtq"
      }
    },
    {
      "cell_type": "code",
      "source": [
        "from sklearn.ensemble import RandomForestClassifier\n",
        "rf = RandomForestClassifier()"
      ],
      "metadata": {
        "id": "r4nIe9NKTGdM"
      },
      "execution_count": null,
      "outputs": []
    },
    {
      "cell_type": "markdown",
      "source": [
        "그리드서치"
      ],
      "metadata": {
        "id": "1mCCczDtUU4N"
      }
    },
    {
      "cell_type": "code",
      "source": [
        "paramaters = {'criterion':['gini','entropy'],\n",
        "              'n_estimators':[50, 100, 150],\n",
        "              'min_samples_split':[2,5,10,15], \n",
        "              'max_depth':[None,2], \n",
        "              'min_samples_leaf':[1,3,10,15], \n",
        "              'max_features':[None,'sqrt','log2']}"
      ],
      "metadata": {
        "id": "YYuQB--yUX37"
      },
      "execution_count": null,
      "outputs": []
    },
    {
      "cell_type": "code",
      "source": [
        "rf_grid_search = GridSearchCV(rf, paramaters, cv = 5, scoring = \"roc_auc\")\n",
        "rf_grid_search.fit(x_train, y_train)"
      ],
      "metadata": {
        "colab": {
          "base_uri": "https://localhost:8080/"
        },
        "id": "PYRwnFkqUZKS",
        "outputId": "4e503ab1-5100-4091-9d0d-babe2af90b16"
      },
      "execution_count": null,
      "outputs": [
        {
          "output_type": "execute_result",
          "data": {
            "text/plain": [
              "GridSearchCV(cv=5, estimator=RandomForestClassifier(),\n",
              "             param_grid={'criterion': ['gini', 'entropy'],\n",
              "                         'max_depth': [None, 2],\n",
              "                         'max_features': [None, 'sqrt', 'log2'],\n",
              "                         'min_samples_leaf': [1, 3, 10, 15],\n",
              "                         'min_samples_split': [2, 5, 10, 15],\n",
              "                         'n_estimators': [50, 100, 150]},\n",
              "             scoring='roc_auc')"
            ]
          },
          "metadata": {},
          "execution_count": 113
        }
      ]
    },
    {
      "cell_type": "code",
      "source": [
        "print('final params', rf_grid_search.best_params_)\n",
        "print('best score', rf_grid_search.best_score_)"
      ],
      "metadata": {
        "colab": {
          "base_uri": "https://localhost:8080/"
        },
        "id": "zfDEKgW4XEMI",
        "outputId": "33c8889f-0555-400b-ed20-c4c01de6c760"
      },
      "execution_count": null,
      "outputs": [
        {
          "output_type": "stream",
          "name": "stdout",
          "text": [
            "final params {'criterion': 'entropy', 'max_depth': None, 'max_features': 'log2', 'min_samples_leaf': 10, 'min_samples_split': 15, 'n_estimators': 100}\n",
            "best score 0.9536515797820708\n"
          ]
        }
      ]
    },
    {
      "cell_type": "markdown",
      "source": [
        "\n",
        "\n",
        "1.  LogisticRegression = 0.8716731752223309\n",
        "2.  SVC = 0.8973397317583365\n",
        "3.  SGD = 0.6851692872179035\n",
        "4.  DecisionTreeClassifier = 0.9299291473921844\n",
        "5.  RandomForestClassifier = 0.9536515797820708\n",
        "\n",
        "\n",
        "\n"
      ],
      "metadata": {
        "id": "quOtxD0IUuRM"
      }
    },
    {
      "cell_type": "code",
      "source": [
        "rf_grid_search = GridSearchCV(rf, paramaters, cv = 5, scoring = \"roc_auc\")\n",
        "rf_grid_search.fit(x_test, y_test)"
      ],
      "metadata": {
        "colab": {
          "base_uri": "https://localhost:8080/"
        },
        "id": "Wk8ApycsXNst",
        "outputId": "1b2f6ff8-6d71-4524-b143-1281e51cc0df"
      },
      "execution_count": null,
      "outputs": [
        {
          "output_type": "execute_result",
          "data": {
            "text/plain": [
              "GridSearchCV(cv=5, estimator=RandomForestClassifier(),\n",
              "             param_grid={'criterion': ['gini', 'entropy'],\n",
              "                         'max_depth': [None, 2],\n",
              "                         'max_features': [None, 'sqrt', 'log2'],\n",
              "                         'min_samples_leaf': [1, 3, 10, 15],\n",
              "                         'min_samples_split': [2, 5, 10, 15],\n",
              "                         'n_estimators': [50, 100, 150]},\n",
              "             scoring='roc_auc')"
            ]
          },
          "metadata": {},
          "execution_count": 115
        }
      ]
    },
    {
      "cell_type": "code",
      "source": [
        "print('best score', rf_grid_search.best_score_)"
      ],
      "metadata": {
        "colab": {
          "base_uri": "https://localhost:8080/"
        },
        "id": "-wf-amWvZ4Fo",
        "outputId": "36d35743-6be4-4396-a3a6-caab32dbcd68"
      },
      "execution_count": null,
      "outputs": [
        {
          "output_type": "stream",
          "name": "stdout",
          "text": [
            "best score 0.9286443381180224\n"
          ]
        }
      ]
    }
  ]
}